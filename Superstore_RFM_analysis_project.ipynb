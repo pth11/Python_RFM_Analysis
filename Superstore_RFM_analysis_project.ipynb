{
 "cells": [
  {
   "cell_type": "code",
   "execution_count": 1,
   "id": "87da6eac",
   "metadata": {},
   "outputs": [
    {
     "name": "stdout",
     "output_type": "stream",
     "text": [
      "Requirement already satisfied: squarify in c:\\users\\user\\anaconda3\\lib\\site-packages (0.4.3)\n"
     ]
    }
   ],
   "source": [
    "!pip install squarify"
   ]
  },
  {
   "cell_type": "code",
   "execution_count": 2,
   "id": "c19aa970",
   "metadata": {},
   "outputs": [],
   "source": [
    "import pandas as pd\n",
    "import numpy as np\n",
    "import matplotlib.pyplot as plt\n",
    "import seaborn as sns\n",
    "import squarify as sq "
   ]
  },
  {
   "cell_type": "code",
   "execution_count": 3,
   "id": "1bd6a46e",
   "metadata": {},
   "outputs": [],
   "source": [
    "orders_pre = pd.read_excel(\"C:\\\\Users\\\\USER\\\\Desktop\\\\Dataset_rfm.xlsx\",sheet_name='Orders')\n",
    "returned = pd.read_excel(\"C:\\\\Users\\\\USER\\\\Desktop\\\\Dataset_rfm.xlsx\",sheet_name='Return')\n",
    "segmentation = pd.read_excel(\"C:\\\\Users\\\\USER\\\\Desktop\\\\Dataset_rfm.xlsx\",sheet_name='Segmentation')\n",
    "product = pd.read_excel(\"C:\\\\Users\\\\USER\\\\Desktop\\\\Dataset_rfm.xlsx\",sheet_name='Product')"
   ]
  },
  {
   "cell_type": "markdown",
   "id": "f5b70c29",
   "metadata": {},
   "source": [
    "# 1. Cleaning data"
   ]
  },
  {
   "cell_type": "markdown",
   "id": "708fcdd7",
   "metadata": {},
   "source": [
    "## 1.1. Checking"
   ]
  },
  {
   "cell_type": "markdown",
   "id": "39cf3262",
   "metadata": {},
   "source": [
    "### 1.1.1. orders_pre df checking"
   ]
  },
  {
   "cell_type": "code",
   "execution_count": 4,
   "id": "c21cc84e",
   "metadata": {},
   "outputs": [
    {
     "name": "stdout",
     "output_type": "stream",
     "text": [
      "<class 'pandas.core.frame.DataFrame'>\n",
      "RangeIndex: 9994 entries, 0 to 9993\n",
      "Data columns (total 12 columns):\n",
      " #   Column       Non-Null Count  Dtype         \n",
      "---  ------       --------------  -----         \n",
      " 0   Row ID       9994 non-null   int64         \n",
      " 1   Order ID     9994 non-null   object        \n",
      " 2   Order Date   9994 non-null   datetime64[ns]\n",
      " 3   Ship Date    9994 non-null   datetime64[ns]\n",
      " 4   Ship Mode    9994 non-null   object        \n",
      " 5   Customer ID  9994 non-null   object        \n",
      " 6   Channel      9994 non-null   object        \n",
      " 7   Postal Code  9994 non-null   int64         \n",
      " 8   Product ID   9994 non-null   object        \n",
      " 9   Sales        9994 non-null   float64       \n",
      " 10  Quantity     9994 non-null   int64         \n",
      " 11  Unit Cost    9994 non-null   float64       \n",
      "dtypes: datetime64[ns](2), float64(2), int64(3), object(5)\n",
      "memory usage: 937.1+ KB\n"
     ]
    },
    {
     "data": {
      "text/html": [
       "<div>\n",
       "<style scoped>\n",
       "    .dataframe tbody tr th:only-of-type {\n",
       "        vertical-align: middle;\n",
       "    }\n",
       "\n",
       "    .dataframe tbody tr th {\n",
       "        vertical-align: top;\n",
       "    }\n",
       "\n",
       "    .dataframe thead th {\n",
       "        text-align: right;\n",
       "    }\n",
       "</style>\n",
       "<table border=\"1\" class=\"dataframe\">\n",
       "  <thead>\n",
       "    <tr style=\"text-align: right;\">\n",
       "      <th></th>\n",
       "      <th>Row ID</th>\n",
       "      <th>Order ID</th>\n",
       "      <th>Order Date</th>\n",
       "      <th>Ship Date</th>\n",
       "      <th>Ship Mode</th>\n",
       "      <th>Customer ID</th>\n",
       "      <th>Channel</th>\n",
       "      <th>Postal Code</th>\n",
       "      <th>Product ID</th>\n",
       "      <th>Sales</th>\n",
       "      <th>Quantity</th>\n",
       "      <th>Unit Cost</th>\n",
       "    </tr>\n",
       "  </thead>\n",
       "  <tbody>\n",
       "    <tr>\n",
       "      <th>0</th>\n",
       "      <td>646</td>\n",
       "      <td>CA-2017-126221</td>\n",
       "      <td>2017-12-30</td>\n",
       "      <td>2018-01-05</td>\n",
       "      <td>Standard Class</td>\n",
       "      <td>CC-12430</td>\n",
       "      <td>Home Office</td>\n",
       "      <td>47201</td>\n",
       "      <td>OFF-AP-10002457</td>\n",
       "      <td>209.300</td>\n",
       "      <td>2</td>\n",
       "      <td>76.3945</td>\n",
       "    </tr>\n",
       "    <tr>\n",
       "      <th>1</th>\n",
       "      <td>907</td>\n",
       "      <td>CA-2017-143259</td>\n",
       "      <td>2017-12-30</td>\n",
       "      <td>2018-01-03</td>\n",
       "      <td>Standard Class</td>\n",
       "      <td>PO-18865</td>\n",
       "      <td>Consumer</td>\n",
       "      <td>10009</td>\n",
       "      <td>FUR-BO-10003441</td>\n",
       "      <td>323.136</td>\n",
       "      <td>4</td>\n",
       "      <td>77.7546</td>\n",
       "    </tr>\n",
       "    <tr>\n",
       "      <th>2</th>\n",
       "      <td>908</td>\n",
       "      <td>CA-2017-143259</td>\n",
       "      <td>2017-12-30</td>\n",
       "      <td>2018-01-03</td>\n",
       "      <td>Standard Class</td>\n",
       "      <td>PO-18865</td>\n",
       "      <td>Consumer</td>\n",
       "      <td>10009</td>\n",
       "      <td>TEC-PH-10004774</td>\n",
       "      <td>90.930</td>\n",
       "      <td>7</td>\n",
       "      <td>12.6003</td>\n",
       "    </tr>\n",
       "    <tr>\n",
       "      <th>3</th>\n",
       "      <td>909</td>\n",
       "      <td>CA-2017-143259</td>\n",
       "      <td>2017-12-30</td>\n",
       "      <td>2018-01-03</td>\n",
       "      <td>Standard Class</td>\n",
       "      <td>PO-18865</td>\n",
       "      <td>Consumer</td>\n",
       "      <td>10009</td>\n",
       "      <td>OFF-BI-10003684</td>\n",
       "      <td>52.776</td>\n",
       "      <td>3</td>\n",
       "      <td>10.9950</td>\n",
       "    </tr>\n",
       "    <tr>\n",
       "      <th>4</th>\n",
       "      <td>1297</td>\n",
       "      <td>CA-2017-115427</td>\n",
       "      <td>2017-12-30</td>\n",
       "      <td>2018-01-03</td>\n",
       "      <td>Standard Class</td>\n",
       "      <td>EB-13975</td>\n",
       "      <td>Corporate</td>\n",
       "      <td>94533</td>\n",
       "      <td>OFF-BI-10002103</td>\n",
       "      <td>13.904</td>\n",
       "      <td>2</td>\n",
       "      <td>4.6926</td>\n",
       "    </tr>\n",
       "  </tbody>\n",
       "</table>\n",
       "</div>"
      ],
      "text/plain": [
       "   Row ID        Order ID Order Date  Ship Date       Ship Mode Customer ID  \\\n",
       "0     646  CA-2017-126221 2017-12-30 2018-01-05  Standard Class    CC-12430   \n",
       "1     907  CA-2017-143259 2017-12-30 2018-01-03  Standard Class    PO-18865   \n",
       "2     908  CA-2017-143259 2017-12-30 2018-01-03  Standard Class    PO-18865   \n",
       "3     909  CA-2017-143259 2017-12-30 2018-01-03  Standard Class    PO-18865   \n",
       "4    1297  CA-2017-115427 2017-12-30 2018-01-03  Standard Class    EB-13975   \n",
       "\n",
       "       Channel  Postal Code       Product ID    Sales  Quantity  Unit Cost  \n",
       "0  Home Office        47201  OFF-AP-10002457  209.300         2    76.3945  \n",
       "1     Consumer        10009  FUR-BO-10003441  323.136         4    77.7546  \n",
       "2     Consumer        10009  TEC-PH-10004774   90.930         7    12.6003  \n",
       "3     Consumer        10009  OFF-BI-10003684   52.776         3    10.9950  \n",
       "4    Corporate        94533  OFF-BI-10002103   13.904         2     4.6926  "
      ]
     },
     "execution_count": 4,
     "metadata": {},
     "output_type": "execute_result"
    }
   ],
   "source": [
    "orders_pre.info()\n",
    "orders_pre.head(5)"
   ]
  },
  {
   "cell_type": "code",
   "execution_count": 5,
   "id": "5dd44a45",
   "metadata": {},
   "outputs": [
    {
     "data": {
      "text/plain": [
       "0"
      ]
     },
     "execution_count": 5,
     "metadata": {},
     "output_type": "execute_result"
    }
   ],
   "source": [
    "# check duplicate records\n",
    "orders_pre.duplicated().sum()\n"
   ]
  },
  {
   "cell_type": "code",
   "execution_count": 6,
   "id": "7cdc29e1",
   "metadata": {},
   "outputs": [
    {
     "data": {
      "text/plain": [
       "False"
      ]
     },
     "execution_count": 6,
     "metadata": {},
     "output_type": "execute_result"
    }
   ],
   "source": [
    "# Check if 'Order ID' is unique\n",
    "orders_pre['Order ID'].is_unique"
   ]
  },
  {
   "cell_type": "markdown",
   "id": "5adc6a16",
   "metadata": {},
   "source": [
    "***Comment***\n",
    "1. There are no duplicate records in orders_pre.\n",
    "2. The Order ID' column is not unique => We have to count distinct 'Order ID' instead of count\n",
    "3. We have to filter orders that were not returned."
   ]
  },
  {
   "cell_type": "markdown",
   "id": "614a3229",
   "metadata": {},
   "source": [
    "### 1.1.2. returned df checking"
   ]
  },
  {
   "cell_type": "code",
   "execution_count": 7,
   "id": "08b58576",
   "metadata": {},
   "outputs": [
    {
     "name": "stdout",
     "output_type": "stream",
     "text": [
      "<class 'pandas.core.frame.DataFrame'>\n",
      "RangeIndex: 296 entries, 0 to 295\n",
      "Data columns (total 2 columns):\n",
      " #   Column    Non-Null Count  Dtype \n",
      "---  ------    --------------  ----- \n",
      " 0   Returned  296 non-null    object\n",
      " 1   Order ID  296 non-null    object\n",
      "dtypes: object(2)\n",
      "memory usage: 4.8+ KB\n"
     ]
    },
    {
     "data": {
      "text/html": [
       "<div>\n",
       "<style scoped>\n",
       "    .dataframe tbody tr th:only-of-type {\n",
       "        vertical-align: middle;\n",
       "    }\n",
       "\n",
       "    .dataframe tbody tr th {\n",
       "        vertical-align: top;\n",
       "    }\n",
       "\n",
       "    .dataframe thead th {\n",
       "        text-align: right;\n",
       "    }\n",
       "</style>\n",
       "<table border=\"1\" class=\"dataframe\">\n",
       "  <thead>\n",
       "    <tr style=\"text-align: right;\">\n",
       "      <th></th>\n",
       "      <th>Returned</th>\n",
       "      <th>Order ID</th>\n",
       "    </tr>\n",
       "  </thead>\n",
       "  <tbody>\n",
       "    <tr>\n",
       "      <th>0</th>\n",
       "      <td>Yes</td>\n",
       "      <td>CA-2017-153822</td>\n",
       "    </tr>\n",
       "    <tr>\n",
       "      <th>1</th>\n",
       "      <td>Yes</td>\n",
       "      <td>CA-2017-129707</td>\n",
       "    </tr>\n",
       "    <tr>\n",
       "      <th>2</th>\n",
       "      <td>Yes</td>\n",
       "      <td>CA-2014-152345</td>\n",
       "    </tr>\n",
       "    <tr>\n",
       "      <th>3</th>\n",
       "      <td>Yes</td>\n",
       "      <td>CA-2015-156440</td>\n",
       "    </tr>\n",
       "    <tr>\n",
       "      <th>4</th>\n",
       "      <td>Yes</td>\n",
       "      <td>US-2017-155999</td>\n",
       "    </tr>\n",
       "  </tbody>\n",
       "</table>\n",
       "</div>"
      ],
      "text/plain": [
       "  Returned        Order ID\n",
       "0      Yes  CA-2017-153822\n",
       "1      Yes  CA-2017-129707\n",
       "2      Yes  CA-2014-152345\n",
       "3      Yes  CA-2015-156440\n",
       "4      Yes  US-2017-155999"
      ]
     },
     "execution_count": 7,
     "metadata": {},
     "output_type": "execute_result"
    }
   ],
   "source": [
    "returned.info()\n",
    "returned.head(5)"
   ]
  },
  {
   "cell_type": "code",
   "execution_count": 8,
   "id": "e0fbdf98",
   "metadata": {},
   "outputs": [
    {
     "data": {
      "text/plain": [
       "0"
      ]
     },
     "execution_count": 8,
     "metadata": {},
     "output_type": "execute_result"
    }
   ],
   "source": [
    "# check duplicate records\n",
    "returned.duplicated().sum()"
   ]
  },
  {
   "cell_type": "code",
   "execution_count": 9,
   "id": "f1388f12",
   "metadata": {},
   "outputs": [
    {
     "data": {
      "text/plain": [
       "True"
      ]
     },
     "execution_count": 9,
     "metadata": {},
     "output_type": "execute_result"
    }
   ],
   "source": [
    "# Check if 'Order ID' is unique\n",
    "returned['Order ID'].is_unique"
   ]
  },
  {
   "cell_type": "markdown",
   "id": "295c3d52",
   "metadata": {},
   "source": [
    "***Comment***\n",
    "1. There are no duplicate records in returned df\n",
    "2. 'Order ID' column is unique"
   ]
  },
  {
   "cell_type": "markdown",
   "id": "ef03b994",
   "metadata": {},
   "source": [
    "### 1.1.3. segmentation df checking"
   ]
  },
  {
   "cell_type": "code",
   "execution_count": 10,
   "id": "baeedc14",
   "metadata": {},
   "outputs": [
    {
     "name": "stdout",
     "output_type": "stream",
     "text": [
      "<class 'pandas.core.frame.DataFrame'>\n",
      "RangeIndex: 11 entries, 0 to 10\n",
      "Data columns (total 2 columns):\n",
      " #   Column     Non-Null Count  Dtype \n",
      "---  ------     --------------  ----- \n",
      " 0   Segment    11 non-null     object\n",
      " 1   RFM Score  11 non-null     object\n",
      "dtypes: object(2)\n",
      "memory usage: 308.0+ bytes\n"
     ]
    },
    {
     "data": {
      "text/html": [
       "<div>\n",
       "<style scoped>\n",
       "    .dataframe tbody tr th:only-of-type {\n",
       "        vertical-align: middle;\n",
       "    }\n",
       "\n",
       "    .dataframe tbody tr th {\n",
       "        vertical-align: top;\n",
       "    }\n",
       "\n",
       "    .dataframe thead th {\n",
       "        text-align: right;\n",
       "    }\n",
       "</style>\n",
       "<table border=\"1\" class=\"dataframe\">\n",
       "  <thead>\n",
       "    <tr style=\"text-align: right;\">\n",
       "      <th></th>\n",
       "      <th>Segment</th>\n",
       "      <th>RFM Score</th>\n",
       "    </tr>\n",
       "  </thead>\n",
       "  <tbody>\n",
       "    <tr>\n",
       "      <th>0</th>\n",
       "      <td>Champions</td>\n",
       "      <td>555, 554, 544, 545, 454, 455, 445</td>\n",
       "    </tr>\n",
       "    <tr>\n",
       "      <th>1</th>\n",
       "      <td>Loyal</td>\n",
       "      <td>543, 444, 435, 355, 354, 345, 344, 335</td>\n",
       "    </tr>\n",
       "    <tr>\n",
       "      <th>2</th>\n",
       "      <td>Potential Loyalist</td>\n",
       "      <td>553, 551, 552, 541, 542, 533, 532, 531, 452, 4...</td>\n",
       "    </tr>\n",
       "    <tr>\n",
       "      <th>3</th>\n",
       "      <td>New Customers</td>\n",
       "      <td>512, 511, 422, 421, 412, 411, 311</td>\n",
       "    </tr>\n",
       "    <tr>\n",
       "      <th>4</th>\n",
       "      <td>Promising</td>\n",
       "      <td>525, 524, 523, 522, 521, 515, 514, 513, 425,42...</td>\n",
       "    </tr>\n",
       "  </tbody>\n",
       "</table>\n",
       "</div>"
      ],
      "text/plain": [
       "              Segment                                          RFM Score\n",
       "0           Champions                  555, 554, 544, 545, 454, 455, 445\n",
       "1               Loyal             543, 444, 435, 355, 354, 345, 344, 335\n",
       "2  Potential Loyalist  553, 551, 552, 541, 542, 533, 532, 531, 452, 4...\n",
       "3       New Customers                  512, 511, 422, 421, 412, 411, 311\n",
       "4           Promising  525, 524, 523, 522, 521, 515, 514, 513, 425,42..."
      ]
     },
     "execution_count": 10,
     "metadata": {},
     "output_type": "execute_result"
    }
   ],
   "source": [
    "segmentation.info()\n",
    "segmentation.head(5)"
   ]
  },
  {
   "cell_type": "code",
   "execution_count": 11,
   "id": "7e8d9149",
   "metadata": {},
   "outputs": [
    {
     "data": {
      "text/plain": [
       "0"
      ]
     },
     "execution_count": 11,
     "metadata": {},
     "output_type": "execute_result"
    }
   ],
   "source": [
    "# check duplicate records\n",
    "segmentation.duplicated().sum()"
   ]
  },
  {
   "cell_type": "markdown",
   "id": "c01cbf09",
   "metadata": {},
   "source": [
    "***Comment***\n",
    "1. There is no duplicate records in segmentation df\n",
    "2. We have to split each RFM score into single rows"
   ]
  },
  {
   "cell_type": "markdown",
   "id": "26ca1a07",
   "metadata": {},
   "source": [
    "### 1.1.4. product df checking"
   ]
  },
  {
   "cell_type": "code",
   "execution_count": 12,
   "id": "747d438d",
   "metadata": {},
   "outputs": [
    {
     "name": "stdout",
     "output_type": "stream",
     "text": [
      "<class 'pandas.core.frame.DataFrame'>\n",
      "RangeIndex: 1894 entries, 0 to 1893\n",
      "Data columns (total 5 columns):\n",
      " #   Column        Non-Null Count  Dtype \n",
      "---  ------        --------------  ----- \n",
      " 0   Row ID        1894 non-null   int64 \n",
      " 1   Product ID    1894 non-null   object\n",
      " 2   Category      1894 non-null   object\n",
      " 3   Sub-Category  1894 non-null   object\n",
      " 4   Product Name  1894 non-null   object\n",
      "dtypes: int64(1), object(4)\n",
      "memory usage: 74.1+ KB\n"
     ]
    },
    {
     "data": {
      "text/html": [
       "<div>\n",
       "<style scoped>\n",
       "    .dataframe tbody tr th:only-of-type {\n",
       "        vertical-align: middle;\n",
       "    }\n",
       "\n",
       "    .dataframe tbody tr th {\n",
       "        vertical-align: top;\n",
       "    }\n",
       "\n",
       "    .dataframe thead th {\n",
       "        text-align: right;\n",
       "    }\n",
       "</style>\n",
       "<table border=\"1\" class=\"dataframe\">\n",
       "  <thead>\n",
       "    <tr style=\"text-align: right;\">\n",
       "      <th></th>\n",
       "      <th>Row ID</th>\n",
       "      <th>Product ID</th>\n",
       "      <th>Category</th>\n",
       "      <th>Sub-Category</th>\n",
       "      <th>Product Name</th>\n",
       "    </tr>\n",
       "  </thead>\n",
       "  <tbody>\n",
       "    <tr>\n",
       "      <th>0</th>\n",
       "      <td>1</td>\n",
       "      <td>FUR-BO-10001798</td>\n",
       "      <td>Furniture</td>\n",
       "      <td>Bookcases</td>\n",
       "      <td>Bush Somerset Collection Bookcase</td>\n",
       "    </tr>\n",
       "    <tr>\n",
       "      <th>1</th>\n",
       "      <td>2</td>\n",
       "      <td>FUR-CH-10000454</td>\n",
       "      <td>Furniture</td>\n",
       "      <td>Chairs</td>\n",
       "      <td>Hon Deluxe Fabric Upholstered Stacking Chairs,...</td>\n",
       "    </tr>\n",
       "    <tr>\n",
       "      <th>2</th>\n",
       "      <td>3</td>\n",
       "      <td>OFF-LA-10000240</td>\n",
       "      <td>Office Supplies</td>\n",
       "      <td>Labels</td>\n",
       "      <td>Self-Adhesive Address Labels for Typewriters b...</td>\n",
       "    </tr>\n",
       "    <tr>\n",
       "      <th>3</th>\n",
       "      <td>4</td>\n",
       "      <td>FUR-TA-10000577</td>\n",
       "      <td>Furniture</td>\n",
       "      <td>Tables</td>\n",
       "      <td>Bretford CR4500 Series Slim Rectangular Table</td>\n",
       "    </tr>\n",
       "    <tr>\n",
       "      <th>4</th>\n",
       "      <td>5</td>\n",
       "      <td>OFF-ST-10000760</td>\n",
       "      <td>Office Supplies</td>\n",
       "      <td>Storage</td>\n",
       "      <td>Eldon Fold 'N Roll Cart System</td>\n",
       "    </tr>\n",
       "  </tbody>\n",
       "</table>\n",
       "</div>"
      ],
      "text/plain": [
       "   Row ID       Product ID         Category Sub-Category  \\\n",
       "0       1  FUR-BO-10001798        Furniture    Bookcases   \n",
       "1       2  FUR-CH-10000454        Furniture       Chairs   \n",
       "2       3  OFF-LA-10000240  Office Supplies       Labels   \n",
       "3       4  FUR-TA-10000577        Furniture       Tables   \n",
       "4       5  OFF-ST-10000760  Office Supplies      Storage   \n",
       "\n",
       "                                        Product Name  \n",
       "0                  Bush Somerset Collection Bookcase  \n",
       "1  Hon Deluxe Fabric Upholstered Stacking Chairs,...  \n",
       "2  Self-Adhesive Address Labels for Typewriters b...  \n",
       "3      Bretford CR4500 Series Slim Rectangular Table  \n",
       "4                     Eldon Fold 'N Roll Cart System  "
      ]
     },
     "execution_count": 12,
     "metadata": {},
     "output_type": "execute_result"
    }
   ],
   "source": [
    "product.info()\n",
    "product.head(5)"
   ]
  },
  {
   "cell_type": "code",
   "execution_count": 13,
   "id": "ad065d7c",
   "metadata": {},
   "outputs": [
    {
     "data": {
      "text/plain": [
       "0"
      ]
     },
     "execution_count": 13,
     "metadata": {},
     "output_type": "execute_result"
    }
   ],
   "source": [
    "# check duplicate records\n",
    "returned.duplicated().sum()"
   ]
  },
  {
   "cell_type": "code",
   "execution_count": 14,
   "id": "9f55822d",
   "metadata": {},
   "outputs": [
    {
     "data": {
      "text/plain": [
       "False"
      ]
     },
     "execution_count": 14,
     "metadata": {},
     "output_type": "execute_result"
    }
   ],
   "source": [
    "# Check if 'Order ID' is unique\n",
    "product['Product ID'].is_unique"
   ]
  },
  {
   "cell_type": "markdown",
   "id": "4cadcc69",
   "metadata": {},
   "source": [
    "***Comment***\n",
    "1. There are no duplicate records in product df\n",
    "2. 'Product ID' is not unique because some products have same Product ID but have different Product Name => drop 'Product Name' then remove duplicate records so that 'Product ID' will be unique"
   ]
  },
  {
   "cell_type": "markdown",
   "id": "2d90990b",
   "metadata": {},
   "source": [
    "## 1.2. Cleaning"
   ]
  },
  {
   "cell_type": "code",
   "execution_count": 15,
   "id": "ae723f52",
   "metadata": {},
   "outputs": [
    {
     "data": {
      "text/html": [
       "<div>\n",
       "<style scoped>\n",
       "    .dataframe tbody tr th:only-of-type {\n",
       "        vertical-align: middle;\n",
       "    }\n",
       "\n",
       "    .dataframe tbody tr th {\n",
       "        vertical-align: top;\n",
       "    }\n",
       "\n",
       "    .dataframe thead th {\n",
       "        text-align: right;\n",
       "    }\n",
       "</style>\n",
       "<table border=\"1\" class=\"dataframe\">\n",
       "  <thead>\n",
       "    <tr style=\"text-align: right;\">\n",
       "      <th></th>\n",
       "      <th>Row ID</th>\n",
       "      <th>Order ID</th>\n",
       "      <th>Order Date</th>\n",
       "      <th>Ship Date</th>\n",
       "      <th>Ship Mode</th>\n",
       "      <th>Customer ID</th>\n",
       "      <th>Channel</th>\n",
       "      <th>Postal Code</th>\n",
       "      <th>Product ID</th>\n",
       "      <th>Sales</th>\n",
       "      <th>Quantity</th>\n",
       "      <th>Unit Cost</th>\n",
       "      <th>Returned</th>\n",
       "      <th>_merge</th>\n",
       "    </tr>\n",
       "  </thead>\n",
       "  <tbody>\n",
       "    <tr>\n",
       "      <th>0</th>\n",
       "      <td>646</td>\n",
       "      <td>CA-2017-126221</td>\n",
       "      <td>2017-12-30</td>\n",
       "      <td>2018-01-05</td>\n",
       "      <td>Standard Class</td>\n",
       "      <td>CC-12430</td>\n",
       "      <td>Home Office</td>\n",
       "      <td>47201</td>\n",
       "      <td>OFF-AP-10002457</td>\n",
       "      <td>209.300</td>\n",
       "      <td>2</td>\n",
       "      <td>76.3945</td>\n",
       "      <td>NaN</td>\n",
       "      <td>left_only</td>\n",
       "    </tr>\n",
       "    <tr>\n",
       "      <th>1</th>\n",
       "      <td>907</td>\n",
       "      <td>CA-2017-143259</td>\n",
       "      <td>2017-12-30</td>\n",
       "      <td>2018-01-03</td>\n",
       "      <td>Standard Class</td>\n",
       "      <td>PO-18865</td>\n",
       "      <td>Consumer</td>\n",
       "      <td>10009</td>\n",
       "      <td>FUR-BO-10003441</td>\n",
       "      <td>323.136</td>\n",
       "      <td>4</td>\n",
       "      <td>77.7546</td>\n",
       "      <td>NaN</td>\n",
       "      <td>left_only</td>\n",
       "    </tr>\n",
       "    <tr>\n",
       "      <th>2</th>\n",
       "      <td>908</td>\n",
       "      <td>CA-2017-143259</td>\n",
       "      <td>2017-12-30</td>\n",
       "      <td>2018-01-03</td>\n",
       "      <td>Standard Class</td>\n",
       "      <td>PO-18865</td>\n",
       "      <td>Consumer</td>\n",
       "      <td>10009</td>\n",
       "      <td>TEC-PH-10004774</td>\n",
       "      <td>90.930</td>\n",
       "      <td>7</td>\n",
       "      <td>12.6003</td>\n",
       "      <td>NaN</td>\n",
       "      <td>left_only</td>\n",
       "    </tr>\n",
       "    <tr>\n",
       "      <th>3</th>\n",
       "      <td>909</td>\n",
       "      <td>CA-2017-143259</td>\n",
       "      <td>2017-12-30</td>\n",
       "      <td>2018-01-03</td>\n",
       "      <td>Standard Class</td>\n",
       "      <td>PO-18865</td>\n",
       "      <td>Consumer</td>\n",
       "      <td>10009</td>\n",
       "      <td>OFF-BI-10003684</td>\n",
       "      <td>52.776</td>\n",
       "      <td>3</td>\n",
       "      <td>10.9950</td>\n",
       "      <td>NaN</td>\n",
       "      <td>left_only</td>\n",
       "    </tr>\n",
       "    <tr>\n",
       "      <th>6</th>\n",
       "      <td>5092</td>\n",
       "      <td>CA-2017-156720</td>\n",
       "      <td>2017-12-30</td>\n",
       "      <td>2018-01-03</td>\n",
       "      <td>Standard Class</td>\n",
       "      <td>JM-15580</td>\n",
       "      <td>Consumer</td>\n",
       "      <td>80538</td>\n",
       "      <td>OFF-FA-10003472</td>\n",
       "      <td>3.024</td>\n",
       "      <td>3</td>\n",
       "      <td>1.2096</td>\n",
       "      <td>NaN</td>\n",
       "      <td>left_only</td>\n",
       "    </tr>\n",
       "  </tbody>\n",
       "</table>\n",
       "</div>"
      ],
      "text/plain": [
       "   Row ID        Order ID Order Date  Ship Date       Ship Mode Customer ID  \\\n",
       "0     646  CA-2017-126221 2017-12-30 2018-01-05  Standard Class    CC-12430   \n",
       "1     907  CA-2017-143259 2017-12-30 2018-01-03  Standard Class    PO-18865   \n",
       "2     908  CA-2017-143259 2017-12-30 2018-01-03  Standard Class    PO-18865   \n",
       "3     909  CA-2017-143259 2017-12-30 2018-01-03  Standard Class    PO-18865   \n",
       "6    5092  CA-2017-156720 2017-12-30 2018-01-03  Standard Class    JM-15580   \n",
       "\n",
       "       Channel  Postal Code       Product ID    Sales  Quantity  Unit Cost  \\\n",
       "0  Home Office        47201  OFF-AP-10002457  209.300         2    76.3945   \n",
       "1     Consumer        10009  FUR-BO-10003441  323.136         4    77.7546   \n",
       "2     Consumer        10009  TEC-PH-10004774   90.930         7    12.6003   \n",
       "3     Consumer        10009  OFF-BI-10003684   52.776         3    10.9950   \n",
       "6     Consumer        80538  OFF-FA-10003472    3.024         3     1.2096   \n",
       "\n",
       "  Returned     _merge  \n",
       "0      NaN  left_only  \n",
       "1      NaN  left_only  \n",
       "2      NaN  left_only  \n",
       "3      NaN  left_only  \n",
       "6      NaN  left_only  "
      ]
     },
     "execution_count": 15,
     "metadata": {},
     "output_type": "execute_result"
    }
   ],
   "source": [
    "# Filter orders that were not returned\n",
    "orders = orders_pre.merge(returned,on='Order ID',how='left',\n",
    "                          indicator=True).query('_merge==\"left_only\"')\n",
    "orders.head(5)"
   ]
  },
  {
   "cell_type": "code",
   "execution_count": 16,
   "id": "669e1f8a",
   "metadata": {},
   "outputs": [
    {
     "data": {
      "text/html": [
       "<div>\n",
       "<style scoped>\n",
       "    .dataframe tbody tr th:only-of-type {\n",
       "        vertical-align: middle;\n",
       "    }\n",
       "\n",
       "    .dataframe tbody tr th {\n",
       "        vertical-align: top;\n",
       "    }\n",
       "\n",
       "    .dataframe thead th {\n",
       "        text-align: right;\n",
       "    }\n",
       "</style>\n",
       "<table border=\"1\" class=\"dataframe\">\n",
       "  <thead>\n",
       "    <tr style=\"text-align: right;\">\n",
       "      <th></th>\n",
       "      <th>Product ID</th>\n",
       "      <th>Category</th>\n",
       "      <th>Sub-Category</th>\n",
       "    </tr>\n",
       "  </thead>\n",
       "  <tbody>\n",
       "    <tr>\n",
       "      <th>0</th>\n",
       "      <td>FUR-BO-10001798</td>\n",
       "      <td>Furniture</td>\n",
       "      <td>Bookcases</td>\n",
       "    </tr>\n",
       "    <tr>\n",
       "      <th>1</th>\n",
       "      <td>FUR-CH-10000454</td>\n",
       "      <td>Furniture</td>\n",
       "      <td>Chairs</td>\n",
       "    </tr>\n",
       "    <tr>\n",
       "      <th>2</th>\n",
       "      <td>OFF-LA-10000240</td>\n",
       "      <td>Office Supplies</td>\n",
       "      <td>Labels</td>\n",
       "    </tr>\n",
       "    <tr>\n",
       "      <th>3</th>\n",
       "      <td>FUR-TA-10000577</td>\n",
       "      <td>Furniture</td>\n",
       "      <td>Tables</td>\n",
       "    </tr>\n",
       "    <tr>\n",
       "      <th>4</th>\n",
       "      <td>OFF-ST-10000760</td>\n",
       "      <td>Office Supplies</td>\n",
       "      <td>Storage</td>\n",
       "    </tr>\n",
       "  </tbody>\n",
       "</table>\n",
       "</div>"
      ],
      "text/plain": [
       "        Product ID         Category Sub-Category\n",
       "0  FUR-BO-10001798        Furniture    Bookcases\n",
       "1  FUR-CH-10000454        Furniture       Chairs\n",
       "2  OFF-LA-10000240  Office Supplies       Labels\n",
       "3  FUR-TA-10000577        Furniture       Tables\n",
       "4  OFF-ST-10000760  Office Supplies      Storage"
      ]
     },
     "execution_count": 16,
     "metadata": {},
     "output_type": "execute_result"
    }
   ],
   "source": [
    "# drop 'Product Name' then remove duplicate records so that 'Product ID' will be unique in product df\n",
    "product.drop(['Product Name','Row ID'],axis=1,inplace=True)\n",
    "product.drop_duplicates(inplace=True)\n",
    "product.head()"
   ]
  },
  {
   "cell_type": "code",
   "execution_count": 17,
   "id": "7bc92b14",
   "metadata": {},
   "outputs": [
    {
     "data": {
      "text/html": [
       "<div>\n",
       "<style scoped>\n",
       "    .dataframe tbody tr th:only-of-type {\n",
       "        vertical-align: middle;\n",
       "    }\n",
       "\n",
       "    .dataframe tbody tr th {\n",
       "        vertical-align: top;\n",
       "    }\n",
       "\n",
       "    .dataframe thead th {\n",
       "        text-align: right;\n",
       "    }\n",
       "</style>\n",
       "<table border=\"1\" class=\"dataframe\">\n",
       "  <thead>\n",
       "    <tr style=\"text-align: right;\">\n",
       "      <th></th>\n",
       "      <th>segment</th>\n",
       "      <th>rfm_score</th>\n",
       "    </tr>\n",
       "  </thead>\n",
       "  <tbody>\n",
       "    <tr>\n",
       "      <th>0</th>\n",
       "      <td>Champions</td>\n",
       "      <td>555</td>\n",
       "    </tr>\n",
       "    <tr>\n",
       "      <th>0</th>\n",
       "      <td>Champions</td>\n",
       "      <td>554</td>\n",
       "    </tr>\n",
       "    <tr>\n",
       "      <th>0</th>\n",
       "      <td>Champions</td>\n",
       "      <td>544</td>\n",
       "    </tr>\n",
       "    <tr>\n",
       "      <th>0</th>\n",
       "      <td>Champions</td>\n",
       "      <td>545</td>\n",
       "    </tr>\n",
       "    <tr>\n",
       "      <th>0</th>\n",
       "      <td>Champions</td>\n",
       "      <td>454</td>\n",
       "    </tr>\n",
       "  </tbody>\n",
       "</table>\n",
       "</div>"
      ],
      "text/plain": [
       "     segment rfm_score\n",
       "0  Champions       555\n",
       "0  Champions       554\n",
       "0  Champions       544\n",
       "0  Champions       545\n",
       "0  Champions       454"
      ]
     },
     "execution_count": 17,
     "metadata": {},
     "output_type": "execute_result"
    }
   ],
   "source": [
    "# split each RFM score into single rows in segmentation df\n",
    "\n",
    "# rename columns\n",
    "segmentation.columns = ['segment','rfm_score']         \n",
    "\n",
    "# convert values in 'rfm_score' column into list\n",
    "segmentation['rfm_score'] = segmentation['rfm_score'].str.split(',')\n",
    "\n",
    "# split each RFM score into single rows\n",
    "segmentation = segmentation.explode('rfm_score')   \n",
    "\n",
    "# strip 'rfm_score' column\n",
    "segmentation['rfm_score'] = segmentation['rfm_score'].str.strip() \n",
    "\n",
    "segmentation.head(5)"
   ]
  },
  {
   "cell_type": "code",
   "execution_count": 18,
   "id": "45105182",
   "metadata": {},
   "outputs": [
    {
     "data": {
      "text/plain": [
       "True"
      ]
     },
     "execution_count": 18,
     "metadata": {},
     "output_type": "execute_result"
    }
   ],
   "source": [
    "# check if rfm_score column is unique\n",
    "segmentation['rfm_score'].is_unique"
   ]
  },
  {
   "cell_type": "markdown",
   "id": "266d11d1",
   "metadata": {},
   "source": [
    "# 2. Assign RFM segmentation"
   ]
  },
  {
   "cell_type": "code",
   "execution_count": 19,
   "id": "18dc7d54",
   "metadata": {},
   "outputs": [
    {
     "data": {
      "text/html": [
       "<div>\n",
       "<style scoped>\n",
       "    .dataframe tbody tr th:only-of-type {\n",
       "        vertical-align: middle;\n",
       "    }\n",
       "\n",
       "    .dataframe tbody tr th {\n",
       "        vertical-align: top;\n",
       "    }\n",
       "\n",
       "    .dataframe thead th {\n",
       "        text-align: right;\n",
       "    }\n",
       "</style>\n",
       "<table border=\"1\" class=\"dataframe\">\n",
       "  <thead>\n",
       "    <tr style=\"text-align: right;\">\n",
       "      <th></th>\n",
       "      <th>customer_id</th>\n",
       "      <th>recency</th>\n",
       "      <th>frequency</th>\n",
       "      <th>monetory</th>\n",
       "    </tr>\n",
       "  </thead>\n",
       "  <tbody>\n",
       "    <tr>\n",
       "      <th>0</th>\n",
       "      <td>AA-10315</td>\n",
       "      <td>185</td>\n",
       "      <td>5</td>\n",
       "      <td>5563.560</td>\n",
       "    </tr>\n",
       "    <tr>\n",
       "      <th>1</th>\n",
       "      <td>AA-10375</td>\n",
       "      <td>20</td>\n",
       "      <td>9</td>\n",
       "      <td>1056.390</td>\n",
       "    </tr>\n",
       "    <tr>\n",
       "      <th>2</th>\n",
       "      <td>AA-10480</td>\n",
       "      <td>260</td>\n",
       "      <td>4</td>\n",
       "      <td>1790.512</td>\n",
       "    </tr>\n",
       "    <tr>\n",
       "      <th>3</th>\n",
       "      <td>AA-10645</td>\n",
       "      <td>483</td>\n",
       "      <td>5</td>\n",
       "      <td>5073.975</td>\n",
       "    </tr>\n",
       "    <tr>\n",
       "      <th>4</th>\n",
       "      <td>AB-10015</td>\n",
       "      <td>416</td>\n",
       "      <td>3</td>\n",
       "      <td>886.156</td>\n",
       "    </tr>\n",
       "    <tr>\n",
       "      <th>...</th>\n",
       "      <td>...</td>\n",
       "      <td>...</td>\n",
       "      <td>...</td>\n",
       "      <td>...</td>\n",
       "    </tr>\n",
       "    <tr>\n",
       "      <th>786</th>\n",
       "      <td>XP-21865</td>\n",
       "      <td>83</td>\n",
       "      <td>9</td>\n",
       "      <td>2110.726</td>\n",
       "    </tr>\n",
       "    <tr>\n",
       "      <th>787</th>\n",
       "      <td>YC-21895</td>\n",
       "      <td>5</td>\n",
       "      <td>4</td>\n",
       "      <td>5438.650</td>\n",
       "    </tr>\n",
       "    <tr>\n",
       "      <th>788</th>\n",
       "      <td>YS-21880</td>\n",
       "      <td>10</td>\n",
       "      <td>8</td>\n",
       "      <td>6720.444</td>\n",
       "    </tr>\n",
       "    <tr>\n",
       "      <th>789</th>\n",
       "      <td>ZC-21910</td>\n",
       "      <td>55</td>\n",
       "      <td>12</td>\n",
       "      <td>7892.998</td>\n",
       "    </tr>\n",
       "    <tr>\n",
       "      <th>790</th>\n",
       "      <td>ZD-21925</td>\n",
       "      <td>203</td>\n",
       "      <td>4</td>\n",
       "      <td>1249.184</td>\n",
       "    </tr>\n",
       "  </tbody>\n",
       "</table>\n",
       "<p>791 rows × 4 columns</p>\n",
       "</div>"
      ],
      "text/plain": [
       "    customer_id  recency  frequency  monetory\n",
       "0      AA-10315      185          5  5563.560\n",
       "1      AA-10375       20          9  1056.390\n",
       "2      AA-10480      260          4  1790.512\n",
       "3      AA-10645      483          5  5073.975\n",
       "4      AB-10015      416          3   886.156\n",
       "..          ...      ...        ...       ...\n",
       "786    XP-21865       83          9  2110.726\n",
       "787    YC-21895        5          4  5438.650\n",
       "788    YS-21880       10          8  6720.444\n",
       "789    ZC-21910       55         12  7892.998\n",
       "790    ZD-21925      203          4  1249.184\n",
       "\n",
       "[791 rows x 4 columns]"
      ]
     },
     "execution_count": 19,
     "metadata": {},
     "output_type": "execute_result"
    }
   ],
   "source": [
    "# Caculate Recency, Frequency, Monetory\n",
    "rfm = orders.groupby('Customer ID').agg({'Order Date':'max',\n",
    "                                         'Order ID':'nunique',\n",
    "                                         'Sales':'sum'}).reset_index()\n",
    "\n",
    "rfm['Order Date'] = (pd.to_datetime('2017-12-31') - rfm['Order Date']).dt.days\n",
    "rfm.columns = ['customer_id','recency','frequency','monetory']\n",
    "rfm"
   ]
  },
  {
   "cell_type": "code",
   "execution_count": 20,
   "id": "39244571",
   "metadata": {},
   "outputs": [
    {
     "data": {
      "text/html": [
       "<div>\n",
       "<style scoped>\n",
       "    .dataframe tbody tr th:only-of-type {\n",
       "        vertical-align: middle;\n",
       "    }\n",
       "\n",
       "    .dataframe tbody tr th {\n",
       "        vertical-align: top;\n",
       "    }\n",
       "\n",
       "    .dataframe thead th {\n",
       "        text-align: right;\n",
       "    }\n",
       "</style>\n",
       "<table border=\"1\" class=\"dataframe\">\n",
       "  <thead>\n",
       "    <tr style=\"text-align: right;\">\n",
       "      <th></th>\n",
       "      <th>customer_id</th>\n",
       "      <th>recency</th>\n",
       "      <th>frequency</th>\n",
       "      <th>monetory</th>\n",
       "      <th>r</th>\n",
       "      <th>f</th>\n",
       "      <th>m</th>\n",
       "      <th>rfm_score</th>\n",
       "    </tr>\n",
       "  </thead>\n",
       "  <tbody>\n",
       "    <tr>\n",
       "      <th>0</th>\n",
       "      <td>AA-10315</td>\n",
       "      <td>185</td>\n",
       "      <td>5</td>\n",
       "      <td>5563.560</td>\n",
       "      <td>2</td>\n",
       "      <td>2</td>\n",
       "      <td>5</td>\n",
       "      <td>225</td>\n",
       "    </tr>\n",
       "    <tr>\n",
       "      <th>1</th>\n",
       "      <td>AA-10375</td>\n",
       "      <td>20</td>\n",
       "      <td>9</td>\n",
       "      <td>1056.390</td>\n",
       "      <td>5</td>\n",
       "      <td>5</td>\n",
       "      <td>2</td>\n",
       "      <td>552</td>\n",
       "    </tr>\n",
       "    <tr>\n",
       "      <th>2</th>\n",
       "      <td>AA-10480</td>\n",
       "      <td>260</td>\n",
       "      <td>4</td>\n",
       "      <td>1790.512</td>\n",
       "      <td>2</td>\n",
       "      <td>1</td>\n",
       "      <td>3</td>\n",
       "      <td>213</td>\n",
       "    </tr>\n",
       "    <tr>\n",
       "      <th>3</th>\n",
       "      <td>AA-10645</td>\n",
       "      <td>483</td>\n",
       "      <td>5</td>\n",
       "      <td>5073.975</td>\n",
       "      <td>1</td>\n",
       "      <td>2</td>\n",
       "      <td>5</td>\n",
       "      <td>125</td>\n",
       "    </tr>\n",
       "    <tr>\n",
       "      <th>4</th>\n",
       "      <td>AB-10015</td>\n",
       "      <td>416</td>\n",
       "      <td>3</td>\n",
       "      <td>886.156</td>\n",
       "      <td>1</td>\n",
       "      <td>1</td>\n",
       "      <td>2</td>\n",
       "      <td>112</td>\n",
       "    </tr>\n",
       "  </tbody>\n",
       "</table>\n",
       "</div>"
      ],
      "text/plain": [
       "  customer_id  recency  frequency  monetory  r  f  m rfm_score\n",
       "0    AA-10315      185          5  5563.560  2  2  5       225\n",
       "1    AA-10375       20          9  1056.390  5  5  2       552\n",
       "2    AA-10480      260          4  1790.512  2  1  3       213\n",
       "3    AA-10645      483          5  5073.975  1  2  5       125\n",
       "4    AB-10015      416          3   886.156  1  1  2       112"
      ]
     },
     "execution_count": 20,
     "metadata": {},
     "output_type": "execute_result"
    }
   ],
   "source": [
    "# Get R, F, M score using qcut\n",
    "\n",
    "lab_des=[5,4,3,2,1]\n",
    "lab_asc=[1,2,3,4,5]\n",
    "\n",
    "rfm['r'] = pd.qcut(rfm['recency'], q=5, labels=lab_des)\n",
    "rfm['f'] = pd.qcut(rfm['frequency'], q=5, labels=lab_asc)\n",
    "rfm['m'] = pd.qcut(rfm['monetory'], q=5, labels=lab_asc)\n",
    "\n",
    "# concatenate R, F, M score into RFM score\n",
    "rfm['rfm_score'] = rfm['r'].astype(str) + rfm['f'].astype(str) + rfm['m'].astype(str)\n",
    "\n",
    "rfm.head(5)"
   ]
  },
  {
   "cell_type": "code",
   "execution_count": 21,
   "id": "c4691d59",
   "metadata": {},
   "outputs": [
    {
     "data": {
      "text/html": [
       "<div>\n",
       "<style scoped>\n",
       "    .dataframe tbody tr th:only-of-type {\n",
       "        vertical-align: middle;\n",
       "    }\n",
       "\n",
       "    .dataframe tbody tr th {\n",
       "        vertical-align: top;\n",
       "    }\n",
       "\n",
       "    .dataframe thead th {\n",
       "        text-align: right;\n",
       "    }\n",
       "</style>\n",
       "<table border=\"1\" class=\"dataframe\">\n",
       "  <thead>\n",
       "    <tr style=\"text-align: right;\">\n",
       "      <th></th>\n",
       "      <th>customer_id</th>\n",
       "      <th>recency</th>\n",
       "      <th>frequency</th>\n",
       "      <th>monetory</th>\n",
       "      <th>r</th>\n",
       "      <th>f</th>\n",
       "      <th>m</th>\n",
       "      <th>rfm_score</th>\n",
       "      <th>segment</th>\n",
       "    </tr>\n",
       "  </thead>\n",
       "  <tbody>\n",
       "    <tr>\n",
       "      <th>0</th>\n",
       "      <td>AA-10315</td>\n",
       "      <td>185</td>\n",
       "      <td>5</td>\n",
       "      <td>5563.560</td>\n",
       "      <td>2</td>\n",
       "      <td>2</td>\n",
       "      <td>5</td>\n",
       "      <td>225</td>\n",
       "      <td>At Risk</td>\n",
       "    </tr>\n",
       "    <tr>\n",
       "      <th>1</th>\n",
       "      <td>AA-10375</td>\n",
       "      <td>20</td>\n",
       "      <td>9</td>\n",
       "      <td>1056.390</td>\n",
       "      <td>5</td>\n",
       "      <td>5</td>\n",
       "      <td>2</td>\n",
       "      <td>552</td>\n",
       "      <td>Potential Loyalist</td>\n",
       "    </tr>\n",
       "    <tr>\n",
       "      <th>2</th>\n",
       "      <td>AA-10480</td>\n",
       "      <td>260</td>\n",
       "      <td>4</td>\n",
       "      <td>1790.512</td>\n",
       "      <td>2</td>\n",
       "      <td>1</td>\n",
       "      <td>3</td>\n",
       "      <td>213</td>\n",
       "      <td>About To Sleep</td>\n",
       "    </tr>\n",
       "    <tr>\n",
       "      <th>3</th>\n",
       "      <td>AA-10645</td>\n",
       "      <td>483</td>\n",
       "      <td>5</td>\n",
       "      <td>5073.975</td>\n",
       "      <td>1</td>\n",
       "      <td>2</td>\n",
       "      <td>5</td>\n",
       "      <td>125</td>\n",
       "      <td>At Risk</td>\n",
       "    </tr>\n",
       "    <tr>\n",
       "      <th>4</th>\n",
       "      <td>AB-10015</td>\n",
       "      <td>416</td>\n",
       "      <td>3</td>\n",
       "      <td>886.156</td>\n",
       "      <td>1</td>\n",
       "      <td>1</td>\n",
       "      <td>2</td>\n",
       "      <td>112</td>\n",
       "      <td>Lost customers</td>\n",
       "    </tr>\n",
       "  </tbody>\n",
       "</table>\n",
       "</div>"
      ],
      "text/plain": [
       "  customer_id  recency  frequency  monetory  r  f  m rfm_score  \\\n",
       "0    AA-10315      185          5  5563.560  2  2  5       225   \n",
       "1    AA-10375       20          9  1056.390  5  5  2       552   \n",
       "2    AA-10480      260          4  1790.512  2  1  3       213   \n",
       "3    AA-10645      483          5  5073.975  1  2  5       125   \n",
       "4    AB-10015      416          3   886.156  1  1  2       112   \n",
       "\n",
       "              segment  \n",
       "0             At Risk  \n",
       "1  Potential Loyalist  \n",
       "2      About To Sleep  \n",
       "3             At Risk  \n",
       "4      Lost customers  "
      ]
     },
     "execution_count": 21,
     "metadata": {},
     "output_type": "execute_result"
    }
   ],
   "source": [
    "# Assign segmentation for each customer_id\n",
    "\n",
    "cus_segmentation = rfm.merge(segmentation, on ='rfm_score', how = 'left')\n",
    "cus_segmentation.head(5)"
   ]
  },
  {
   "cell_type": "code",
   "execution_count": 22,
   "id": "def04384",
   "metadata": {
    "scrolled": true
   },
   "outputs": [],
   "source": [
    "# Calculate number of customers share and Monetory share\n",
    "segmentation_data = cus_segmentation.groupby('segment').agg(cus_count=('customer_id','count'),\n",
    "                                                    avg_recency=('recency','mean'),\n",
    "                                                    avg_frequency=('frequency','mean'),\n",
    "                                                    sum_monetory=('monetory','sum')).round(1).reset_index()\n",
    "\n",
    "segmentation_data['cus_share'] = (segmentation_data['cus_count']*100/segmentation_data['cus_count'].sum()).round(2)\n",
    "segmentation_data['monetory_share'] = (segmentation_data['sum_monetory']*100/segmentation_data['sum_monetory'].sum()).round(2)\n",
    "\n",
    "segmentation_data.sort_values(by='cus_count',inplace=True)"
   ]
  },
  {
   "cell_type": "markdown",
   "id": "5f582704",
   "metadata": {},
   "source": [
    "# 3. Visualization & Insights"
   ]
  },
  {
   "cell_type": "code",
   "execution_count": 23,
   "id": "65a3c219",
   "metadata": {},
   "outputs": [],
   "source": [
    "# Set color palette\n",
    "color1= sns.color_palette('GnBu',11)\n",
    "color2= sns.color_palette('RdBu_r',11)"
   ]
  },
  {
   "cell_type": "markdown",
   "id": "e701fa79",
   "metadata": {},
   "source": [
    "## 3.1. Visualize Recency, Frequency, Monetory and Number of Customers by segments"
   ]
  },
  {
   "cell_type": "markdown",
   "id": "e61c4a65",
   "metadata": {},
   "source": [
    "### 3.1.1. Visualize Average Recency by RFM segments"
   ]
  },
  {
   "cell_type": "code",
   "execution_count": 53,
   "id": "2ed64ddd",
   "metadata": {},
   "outputs": [
    {
     "data": {
      "image/png": "[encoded data removed]",
      "text/plain": [
       "<Figure size 400x300 with 1 Axes>"
      ]
     },
     "metadata": {},
     "output_type": "display_data"
    }
   ],
   "source": [
    "fig, ax = plt.subplots(1, figsize = (4,3))\n",
    "r_chart = sns.barplot(x='segment',\n",
    "            y='avg_recency',\n",
    "            data=segmentation_data.sort_values('avg_recency'),\n",
    "            palette=color2)\n",
    "r_chart.set_title('Average Recency by RFM Segments')\n",
    "r_chart.set(xlabel='Segment',\n",
    "            ylabel='Average Recency')\n",
    "plt.xticks(rotation=90)\n",
    "plt.show()"
   ]
  },
  {
   "cell_type": "markdown",
   "id": "3a65c11f",
   "metadata": {},
   "source": [
    "***Comment:***\n",
    "- Segments with the most recent purchase date: Champions (28.5 days), Promises (35.3 days) and New Customers (41.5 days)\n",
    "- Segments that have not returned to buy for a long time: Lost customers (558 days) and Cannot Lose Them (496.5 days)"
   ]
  },
  {
   "cell_type": "markdown",
   "id": "74cbfd39",
   "metadata": {},
   "source": [
    "### 3.1.2. Visualize Average Frequency by RFM segments"
   ]
  },
  {
   "cell_type": "code",
   "execution_count": 54,
   "id": "225d9766",
   "metadata": {},
   "outputs": [
    {
     "data": {
      "image/png": "[encoded data removed]",
      "text/plain": [
       "<Figure size 400x300 with 1 Axes>"
      ]
     },
     "metadata": {},
     "output_type": "display_data"
    }
   ],
   "source": [
    "fig, ax = plt.subplots(1, figsize = (4,3))\n",
    "f_chart =sns.barplot(x='segment',\n",
    "            y='avg_frequency',\n",
    "            data=segmentation_data.sort_values('avg_frequency',ascending=False),\n",
    "            palette=color2)\n",
    "f_chart.set_title('Average Frequency by RFM Segments')\n",
    "f_chart.set(xlabel='Segment',\n",
    "            ylabel='Average Frequency')\n",
    "plt.xticks(rotation=90)\n",
    "plt.show()"
   ]
  },
  {
   "cell_type": "markdown",
   "id": "ba1430c8",
   "metadata": {},
   "source": [
    "***Comment:***\n",
    "- Most frequent purchase segments: Champions (9.8x), Loyal (8.2x), At Risk (7.3x)\n",
    "- Segments with the lowest number of orders: Lost customers (3.0 times), New Customers (3.4 times)\n",
    "- The number of orders of the Champions segment is 3.3 times higher than that of the Lost customers segment"
   ]
  },
  {
   "cell_type": "markdown",
   "id": "e1a0e1dd",
   "metadata": {},
   "source": [
    "### 3.1.3. Visualize total sales by segments"
   ]
  },
  {
   "cell_type": "code",
   "execution_count": 56,
   "id": "26cf0a44",
   "metadata": {},
   "outputs": [
    {
     "data": {
      "image/png": "[encoded data removed]",
      "text/plain": [
       "<Figure size 640x480 with 1 Axes>"
      ]
     },
     "metadata": {},
     "output_type": "display_data"
    }
   ],
   "source": [
    "\n",
    "sales_map = sq.plot(sizes=segmentation_data['monetory_share'], \n",
    "                    label=segmentation_data['segment'],\n",
    "                    color=color1,\n",
    "                    alpha=.8,\n",
    "                    text_kwargs={'fontsize':6},\n",
    "                    value=[f'{x}%' for x in segmentation_data['monetory_share']])\n",
    "plt.title('Total sales by RFM Segments')\n",
    "plt.axis(\"off\")\n",
    "plt.show()"
   ]
  },
  {
   "cell_type": "markdown",
   "id": "29010b98",
   "metadata": {},
   "source": [
    "***Comment***\n",
    "- Segments with the highest total revenue: At Risk (385996.9 dollars, equivalent to 18.24%) and Champions (382096.6 dollars, equivalent to 18.05%) \n",
    "- Segments with low total revenue: New Customers (40997.1 dollars, equivalent to 1.94%), About To Sleep (47310.1 dollars, equivalent to 2.24%) \n",
    "- The revenue of the At Risk segment is 9.4 times that of the New Customers segment."
   ]
  },
  {
   "cell_type": "markdown",
   "id": "a672908a",
   "metadata": {},
   "source": [
    "### 3.1.3. Visualize Number of customers by segments"
   ]
  },
  {
   "cell_type": "code",
   "execution_count": 27,
   "id": "2f03cb18",
   "metadata": {},
   "outputs": [
    {
     "data": {
      "image/png": "[encoded data removed]",
      "text/plain": [
       "<Figure size 640x480 with 1 Axes>"
      ]
     },
     "metadata": {},
     "output_type": "display_data"
    }
   ],
   "source": [
    "# Visualize Customer count by segments\n",
    "count_map = sq.plot(sizes=segmentation_data['cus_count'], \n",
    "                    label=segmentation_data['segment'],\n",
    "                    color=color1,\n",
    "                    alpha=.8,\n",
    "                    text_kwargs={'fontsize':6},\n",
    "                    value=[f'{x}%' for x in segmentation_data['cus_share']])\n",
    "plt.title('Number of customers by RFM Segments')\n",
    "plt.axis(\"off\")\n",
    "plt.show()"
   ]
  },
  {
   "cell_type": "markdown",
   "id": "f2f7f0ce",
   "metadata": {},
   "source": [
    "### 3.1.4. Describe Recency, Frequency and Monetory"
   ]
  },
  {
   "cell_type": "code",
   "execution_count": 28,
   "id": "a3f3972e",
   "metadata": {},
   "outputs": [
    {
     "data": {
      "text/html": [
       "<div>\n",
       "<style scoped>\n",
       "    .dataframe tbody tr th:only-of-type {\n",
       "        vertical-align: middle;\n",
       "    }\n",
       "\n",
       "    .dataframe tbody tr th {\n",
       "        vertical-align: top;\n",
       "    }\n",
       "\n",
       "    .dataframe thead th {\n",
       "        text-align: right;\n",
       "    }\n",
       "</style>\n",
       "<table border=\"1\" class=\"dataframe\">\n",
       "  <thead>\n",
       "    <tr style=\"text-align: right;\">\n",
       "      <th></th>\n",
       "      <th>recency</th>\n",
       "      <th>frequency</th>\n",
       "      <th>monetory</th>\n",
       "    </tr>\n",
       "  </thead>\n",
       "  <tbody>\n",
       "    <tr>\n",
       "      <th>count</th>\n",
       "      <td>791.000000</td>\n",
       "      <td>791.000000</td>\n",
       "      <td>791.000000</td>\n",
       "    </tr>\n",
       "    <tr>\n",
       "      <th>mean</th>\n",
       "      <td>166.073325</td>\n",
       "      <td>5.958281</td>\n",
       "      <td>2675.975452</td>\n",
       "    </tr>\n",
       "    <tr>\n",
       "      <th>std</th>\n",
       "      <td>209.322178</td>\n",
       "      <td>2.476631</td>\n",
       "      <td>2513.579432</td>\n",
       "    </tr>\n",
       "    <tr>\n",
       "      <th>min</th>\n",
       "      <td>1.000000</td>\n",
       "      <td>1.000000</td>\n",
       "      <td>4.833000</td>\n",
       "    </tr>\n",
       "    <tr>\n",
       "      <th>25%</th>\n",
       "      <td>35.000000</td>\n",
       "      <td>4.000000</td>\n",
       "      <td>1042.041500</td>\n",
       "    </tr>\n",
       "    <tr>\n",
       "      <th>50%</th>\n",
       "      <td>83.000000</td>\n",
       "      <td>6.000000</td>\n",
       "      <td>2070.779000</td>\n",
       "    </tr>\n",
       "    <tr>\n",
       "      <th>75%</th>\n",
       "      <td>201.500000</td>\n",
       "      <td>7.000000</td>\n",
       "      <td>3553.088000</td>\n",
       "    </tr>\n",
       "    <tr>\n",
       "      <th>max</th>\n",
       "      <td>1320.000000</td>\n",
       "      <td>17.000000</td>\n",
       "      <td>24516.600000</td>\n",
       "    </tr>\n",
       "  </tbody>\n",
       "</table>\n",
       "</div>"
      ],
      "text/plain": [
       "           recency   frequency      monetory\n",
       "count   791.000000  791.000000    791.000000\n",
       "mean    166.073325    5.958281   2675.975452\n",
       "std     209.322178    2.476631   2513.579432\n",
       "min       1.000000    1.000000      4.833000\n",
       "25%      35.000000    4.000000   1042.041500\n",
       "50%      83.000000    6.000000   2070.779000\n",
       "75%     201.500000    7.000000   3553.088000\n",
       "max    1320.000000   17.000000  24516.600000"
      ]
     },
     "execution_count": 28,
     "metadata": {},
     "output_type": "execute_result"
    }
   ],
   "source": [
    "rfm_discribe = cus_segmentation[['recency','frequency','monetory']]\n",
    "rfm_discribe.describe()"
   ]
  },
  {
   "cell_type": "markdown",
   "id": "c3f9f0c9",
   "metadata": {},
   "source": [
    "### 3.1.5. Insights and recommendations"
   ]
  },
  {
   "cell_type": "markdown",
   "id": "804a049d",
   "metadata": {},
   "source": [
    "***1. Recency, Frequency and Monetory value of Superstore:***\n",
    "- As a retailer, Superstore may prioritize Recency and Frequency over their Monetary since their most loyal shoppers may make many purchases throughout the year at lower Average Transaction Sizes. However, Superstore's Recency and Frequency do not have many positive signs\n",
    "- Mean of Frequency is 6 times, which is low for a retail company. This means customer loyalty is not high\n",
    "- Mean of Recency ~ 166 days, while the median is 83 days, this represents a lot of high Recency values. The larger this index, the higher the customer's tendency to leave.\n",
    "\n",
    "=> Those are some warnings for Superstore to focus more on Recency and Frequency performance.\n",
    "\n",
    "***2. Segments of Superstore:***\n",
    "- 2 segments with the highest proportion of customers are Potential Loyalist (14.29%) and At Risk (12.14%)\n",
    "- Negative segments such as Hibernating and Lost accounted for a high proportion of customers, 11.38% and 10.49%, respectively. However, these two groups account for less than 8% of revenue\n",
    "- The two most positive segments account for less than 17% of the proportion of customers (Champions, 8.98%, and Loyal, 7.84%).\n",
    "- Potential Loyalist (the ideal segment) has the highest proportion of customers (14.29%), but its revenue proportion is only 9.02%. Meanwhile, the negative segment, At Risk, accounts for 18.24% of revenue\n",
    "\n",
    "⇒ In this Christmas - New Year marketing campaign, SuperStore needs to prioritize their efforts to promote the Potential Loyalist group to become Loyal and Champions, and find ways to reconnect with customers in the At Risk group."
   ]
  },
  {
   "cell_type": "markdown",
   "id": "c07c9d08",
   "metadata": {},
   "source": [
    "\n",
    "***Actionable Tip for each segment***\n",
    "|Customer Segment         | Activity           | Actionable Tip   |\n",
    "|:-------------|:-------------|:------|\n",
    "|Champions   | Bought recently, buy often, and spend the most!|Reward them. Can be early adopters for new products. Will promote your brand. |\n",
    "|Loyal Customers    | Spend good money with us often. Responsive to promotions.      |   Upsell higher-value products. Ask for reviews. Engage them|\n",
    "| Potential Loyalist |Recent customers, but spent a good amount and bought more than once    |Offer membership/loyalty program, and recommend other products.|\n",
    "|Recent Customers |Bought most recently, but not often| Provide onboarding support, give them early success, and start building relationships|\n",
    "|Promising | Recent shoppers, but haven’t spent much|Create brand awareness, and offer free trials|\n",
    "| Needing Attention| Above average recency, frequency, and monetary values. May not have bought it very recently though|Make limitedtime offers, and recommend based on past purchases. Reactivate them\n",
    "| About To Sleep| Below average recency, frequency, and monetary values. Will lose them if not reactivated|Share valuable resources, recommend popular products/renewals at discounts, and reconnect with them |\n",
    "| At Risk|Spent big money and purchased often. But a long time ago. Need to bring them back!|Send personalized emails to reconnect, offer renewals, and provide helpful resources|\n",
    "|Can’t Lose Them|Made biggest purchases, and often. But haven’t returned for a long time|Win them back via renewals or newer products, don’t lose them to competition, talk to them |\n",
    "| Hibernating|Last purchase was long back, with low spenders and a low number of orders |Offer other relevant products and special discounts. Recreate brand value |\n",
    "| Lost|Lowest recency, frequency, and monetary scores|Revive interest with reach-out campaign, ignore otherwise. |\n",
    "\n"
   ]
  },
  {
   "cell_type": "markdown",
   "id": "8e0aaf57",
   "metadata": {},
   "source": [
    "\n",
    "## 3.2. Potential Loyalist and At Risk analysis"
   ]
  },
  {
   "cell_type": "code",
   "execution_count": 29,
   "id": "493faaa3",
   "metadata": {
    "scrolled": true
   },
   "outputs": [
    {
     "data": {
      "text/html": [
       "<div>\n",
       "<style scoped>\n",
       "    .dataframe tbody tr th:only-of-type {\n",
       "        vertical-align: middle;\n",
       "    }\n",
       "\n",
       "    .dataframe tbody tr th {\n",
       "        vertical-align: top;\n",
       "    }\n",
       "\n",
       "    .dataframe thead th {\n",
       "        text-align: right;\n",
       "    }\n",
       "</style>\n",
       "<table border=\"1\" class=\"dataframe\">\n",
       "  <thead>\n",
       "    <tr style=\"text-align: right;\">\n",
       "      <th></th>\n",
       "      <th>Row ID</th>\n",
       "      <th>Order ID</th>\n",
       "      <th>Order Date</th>\n",
       "      <th>Ship Date</th>\n",
       "      <th>Ship Mode</th>\n",
       "      <th>Customer ID</th>\n",
       "      <th>Channel</th>\n",
       "      <th>Postal Code</th>\n",
       "      <th>Product ID</th>\n",
       "      <th>Sales</th>\n",
       "      <th>Quantity</th>\n",
       "      <th>Unit Cost</th>\n",
       "      <th>Category</th>\n",
       "      <th>Sub-Category</th>\n",
       "      <th>Returned</th>\n",
       "      <th>customer_id</th>\n",
       "      <th>segment</th>\n",
       "      <th>year</th>\n",
       "    </tr>\n",
       "  </thead>\n",
       "  <tbody>\n",
       "    <tr>\n",
       "      <th>0</th>\n",
       "      <td>646</td>\n",
       "      <td>CA-2017-126221</td>\n",
       "      <td>2017-12-30</td>\n",
       "      <td>2018-01-05</td>\n",
       "      <td>Standard Class</td>\n",
       "      <td>CC-12430</td>\n",
       "      <td>Home Office</td>\n",
       "      <td>47201</td>\n",
       "      <td>OFF-AP-10002457</td>\n",
       "      <td>209.300</td>\n",
       "      <td>2</td>\n",
       "      <td>76.3945</td>\n",
       "      <td>Office Supplies</td>\n",
       "      <td>Appliances</td>\n",
       "      <td>NaN</td>\n",
       "      <td>CC-12430</td>\n",
       "      <td>Loyal</td>\n",
       "      <td>2017</td>\n",
       "    </tr>\n",
       "    <tr>\n",
       "      <th>1</th>\n",
       "      <td>907</td>\n",
       "      <td>CA-2017-143259</td>\n",
       "      <td>2017-12-30</td>\n",
       "      <td>2018-01-03</td>\n",
       "      <td>Standard Class</td>\n",
       "      <td>PO-18865</td>\n",
       "      <td>Consumer</td>\n",
       "      <td>10009</td>\n",
       "      <td>FUR-BO-10003441</td>\n",
       "      <td>323.136</td>\n",
       "      <td>4</td>\n",
       "      <td>77.7546</td>\n",
       "      <td>Furniture</td>\n",
       "      <td>Bookcases</td>\n",
       "      <td>NaN</td>\n",
       "      <td>PO-18865</td>\n",
       "      <td>Need Attention</td>\n",
       "      <td>2017</td>\n",
       "    </tr>\n",
       "    <tr>\n",
       "      <th>2</th>\n",
       "      <td>908</td>\n",
       "      <td>CA-2017-143259</td>\n",
       "      <td>2017-12-30</td>\n",
       "      <td>2018-01-03</td>\n",
       "      <td>Standard Class</td>\n",
       "      <td>PO-18865</td>\n",
       "      <td>Consumer</td>\n",
       "      <td>10009</td>\n",
       "      <td>TEC-PH-10004774</td>\n",
       "      <td>90.930</td>\n",
       "      <td>7</td>\n",
       "      <td>12.6003</td>\n",
       "      <td>Technology</td>\n",
       "      <td>Phones</td>\n",
       "      <td>NaN</td>\n",
       "      <td>PO-18865</td>\n",
       "      <td>Need Attention</td>\n",
       "      <td>2017</td>\n",
       "    </tr>\n",
       "    <tr>\n",
       "      <th>3</th>\n",
       "      <td>909</td>\n",
       "      <td>CA-2017-143259</td>\n",
       "      <td>2017-12-30</td>\n",
       "      <td>2018-01-03</td>\n",
       "      <td>Standard Class</td>\n",
       "      <td>PO-18865</td>\n",
       "      <td>Consumer</td>\n",
       "      <td>10009</td>\n",
       "      <td>OFF-BI-10003684</td>\n",
       "      <td>52.776</td>\n",
       "      <td>3</td>\n",
       "      <td>10.9950</td>\n",
       "      <td>Office Supplies</td>\n",
       "      <td>Binders</td>\n",
       "      <td>NaN</td>\n",
       "      <td>PO-18865</td>\n",
       "      <td>Need Attention</td>\n",
       "      <td>2017</td>\n",
       "    </tr>\n",
       "    <tr>\n",
       "      <th>4</th>\n",
       "      <td>1297</td>\n",
       "      <td>CA-2017-115427</td>\n",
       "      <td>2017-12-30</td>\n",
       "      <td>2018-01-03</td>\n",
       "      <td>Standard Class</td>\n",
       "      <td>EB-13975</td>\n",
       "      <td>Corporate</td>\n",
       "      <td>94533</td>\n",
       "      <td>OFF-BI-10002103</td>\n",
       "      <td>13.904</td>\n",
       "      <td>2</td>\n",
       "      <td>4.6926</td>\n",
       "      <td>Office Supplies</td>\n",
       "      <td>Binders</td>\n",
       "      <td>Yes</td>\n",
       "      <td>EB-13975</td>\n",
       "      <td>Cannot Lose Them</td>\n",
       "      <td>2017</td>\n",
       "    </tr>\n",
       "  </tbody>\n",
       "</table>\n",
       "</div>"
      ],
      "text/plain": [
       "   Row ID        Order ID Order Date  Ship Date       Ship Mode Customer ID  \\\n",
       "0     646  CA-2017-126221 2017-12-30 2018-01-05  Standard Class    CC-12430   \n",
       "1     907  CA-2017-143259 2017-12-30 2018-01-03  Standard Class    PO-18865   \n",
       "2     908  CA-2017-143259 2017-12-30 2018-01-03  Standard Class    PO-18865   \n",
       "3     909  CA-2017-143259 2017-12-30 2018-01-03  Standard Class    PO-18865   \n",
       "4    1297  CA-2017-115427 2017-12-30 2018-01-03  Standard Class    EB-13975   \n",
       "\n",
       "       Channel  Postal Code       Product ID    Sales  Quantity  Unit Cost  \\\n",
       "0  Home Office        47201  OFF-AP-10002457  209.300         2    76.3945   \n",
       "1     Consumer        10009  FUR-BO-10003441  323.136         4    77.7546   \n",
       "2     Consumer        10009  TEC-PH-10004774   90.930         7    12.6003   \n",
       "3     Consumer        10009  OFF-BI-10003684   52.776         3    10.9950   \n",
       "4    Corporate        94533  OFF-BI-10002103   13.904         2     4.6926   \n",
       "\n",
       "          Category Sub-Category Returned customer_id           segment  year  \n",
       "0  Office Supplies   Appliances      NaN    CC-12430             Loyal  2017  \n",
       "1        Furniture    Bookcases      NaN    PO-18865    Need Attention  2017  \n",
       "2       Technology       Phones      NaN    PO-18865    Need Attention  2017  \n",
       "3  Office Supplies      Binders      NaN    PO-18865    Need Attention  2017  \n",
       "4  Office Supplies      Binders      Yes    EB-13975  Cannot Lose Them  2017  "
      ]
     },
     "execution_count": 29,
     "metadata": {},
     "output_type": "execute_result"
    }
   ],
   "source": [
    "# Merge orders_pre, product, returned, cus_seg df into a full-information df\n",
    "data = orders_pre.merge(product, on='Product ID', how='left')\\\n",
    "                 .merge(returned,on='Order ID',how='left')\\\n",
    "                 .merge(cus_segmentation[['customer_id','segment']],left_on='Customer ID',right_on='customer_id',how='left')\n",
    "\n",
    "# Create order year column\n",
    "data['year']=data['Order Date'].dt.strftime(\"%Y\")\n",
    "\n",
    "data.head(5)"
   ]
  },
  {
   "cell_type": "markdown",
   "id": "f620d93c",
   "metadata": {},
   "source": [
    "### 3.2.1 Potential Loyalist"
   ]
  },
  {
   "cell_type": "code",
   "execution_count": 30,
   "id": "06e357d2",
   "metadata": {},
   "outputs": [
    {
     "data": {
      "text/html": [
       "<div>\n",
       "<style scoped>\n",
       "    .dataframe tbody tr th:only-of-type {\n",
       "        vertical-align: middle;\n",
       "    }\n",
       "\n",
       "    .dataframe tbody tr th {\n",
       "        vertical-align: top;\n",
       "    }\n",
       "\n",
       "    .dataframe thead th {\n",
       "        text-align: right;\n",
       "    }\n",
       "</style>\n",
       "<table border=\"1\" class=\"dataframe\">\n",
       "  <thead>\n",
       "    <tr style=\"text-align: right;\">\n",
       "      <th></th>\n",
       "      <th>Row ID</th>\n",
       "      <th>Order ID</th>\n",
       "      <th>Order Date</th>\n",
       "      <th>Ship Date</th>\n",
       "      <th>Ship Mode</th>\n",
       "      <th>Customer ID</th>\n",
       "      <th>Channel</th>\n",
       "      <th>Postal Code</th>\n",
       "      <th>Product ID</th>\n",
       "      <th>Sales</th>\n",
       "      <th>Quantity</th>\n",
       "      <th>Unit Cost</th>\n",
       "      <th>Category</th>\n",
       "      <th>Sub-Category</th>\n",
       "      <th>Returned</th>\n",
       "      <th>customer_id</th>\n",
       "      <th>segment</th>\n",
       "      <th>year</th>\n",
       "    </tr>\n",
       "  </thead>\n",
       "  <tbody>\n",
       "    <tr>\n",
       "      <th>10</th>\n",
       "      <td>4240</td>\n",
       "      <td>CA-2017-158673</td>\n",
       "      <td>2017-12-29</td>\n",
       "      <td>2018-01-04</td>\n",
       "      <td>Standard Class</td>\n",
       "      <td>KB-16600</td>\n",
       "      <td>Corporate</td>\n",
       "      <td>49505</td>\n",
       "      <td>OFF-PA-10000994</td>\n",
       "      <td>209.700</td>\n",
       "      <td>2</td>\n",
       "      <td>54.5220</td>\n",
       "      <td>Office Supplies</td>\n",
       "      <td>Paper</td>\n",
       "      <td>NaN</td>\n",
       "      <td>KB-16600</td>\n",
       "      <td>Potential Loyalist</td>\n",
       "      <td>2017</td>\n",
       "    </tr>\n",
       "    <tr>\n",
       "      <th>20</th>\n",
       "      <td>571</td>\n",
       "      <td>CA-2017-164826</td>\n",
       "      <td>2017-12-28</td>\n",
       "      <td>2018-01-04</td>\n",
       "      <td>Standard Class</td>\n",
       "      <td>JF-15415</td>\n",
       "      <td>Consumer</td>\n",
       "      <td>10024</td>\n",
       "      <td>OFF-LA-10001297</td>\n",
       "      <td>72.450</td>\n",
       "      <td>7</td>\n",
       "      <td>5.3820</td>\n",
       "      <td>Office Supplies</td>\n",
       "      <td>Labels</td>\n",
       "      <td>NaN</td>\n",
       "      <td>JF-15415</td>\n",
       "      <td>Potential Loyalist</td>\n",
       "      <td>2017</td>\n",
       "    </tr>\n",
       "    <tr>\n",
       "      <th>21</th>\n",
       "      <td>572</td>\n",
       "      <td>CA-2017-164826</td>\n",
       "      <td>2017-12-28</td>\n",
       "      <td>2018-01-04</td>\n",
       "      <td>Standard Class</td>\n",
       "      <td>JF-15415</td>\n",
       "      <td>Consumer</td>\n",
       "      <td>10024</td>\n",
       "      <td>OFF-FA-10000585</td>\n",
       "      <td>13.960</td>\n",
       "      <td>4</td>\n",
       "      <td>1.8846</td>\n",
       "      <td>Office Supplies</td>\n",
       "      <td>Fasteners</td>\n",
       "      <td>NaN</td>\n",
       "      <td>JF-15415</td>\n",
       "      <td>Potential Loyalist</td>\n",
       "      <td>2017</td>\n",
       "    </tr>\n",
       "    <tr>\n",
       "      <th>22</th>\n",
       "      <td>573</td>\n",
       "      <td>CA-2017-164826</td>\n",
       "      <td>2017-12-28</td>\n",
       "      <td>2018-01-04</td>\n",
       "      <td>Standard Class</td>\n",
       "      <td>JF-15415</td>\n",
       "      <td>Consumer</td>\n",
       "      <td>10024</td>\n",
       "      <td>OFF-BI-10001922</td>\n",
       "      <td>33.264</td>\n",
       "      <td>7</td>\n",
       "      <td>3.1482</td>\n",
       "      <td>Office Supplies</td>\n",
       "      <td>Binders</td>\n",
       "      <td>NaN</td>\n",
       "      <td>JF-15415</td>\n",
       "      <td>Potential Loyalist</td>\n",
       "      <td>2017</td>\n",
       "    </tr>\n",
       "    <tr>\n",
       "      <th>23</th>\n",
       "      <td>574</td>\n",
       "      <td>CA-2017-164826</td>\n",
       "      <td>2017-12-28</td>\n",
       "      <td>2018-01-04</td>\n",
       "      <td>Standard Class</td>\n",
       "      <td>JF-15415</td>\n",
       "      <td>Consumer</td>\n",
       "      <td>10024</td>\n",
       "      <td>TEC-PH-10000347</td>\n",
       "      <td>14.850</td>\n",
       "      <td>3</td>\n",
       "      <td>3.6135</td>\n",
       "      <td>Technology</td>\n",
       "      <td>Phones</td>\n",
       "      <td>NaN</td>\n",
       "      <td>JF-15415</td>\n",
       "      <td>Potential Loyalist</td>\n",
       "      <td>2017</td>\n",
       "    </tr>\n",
       "  </tbody>\n",
       "</table>\n",
       "</div>"
      ],
      "text/plain": [
       "    Row ID        Order ID Order Date  Ship Date       Ship Mode Customer ID  \\\n",
       "10    4240  CA-2017-158673 2017-12-29 2018-01-04  Standard Class    KB-16600   \n",
       "20     571  CA-2017-164826 2017-12-28 2018-01-04  Standard Class    JF-15415   \n",
       "21     572  CA-2017-164826 2017-12-28 2018-01-04  Standard Class    JF-15415   \n",
       "22     573  CA-2017-164826 2017-12-28 2018-01-04  Standard Class    JF-15415   \n",
       "23     574  CA-2017-164826 2017-12-28 2018-01-04  Standard Class    JF-15415   \n",
       "\n",
       "      Channel  Postal Code       Product ID    Sales  Quantity  Unit Cost  \\\n",
       "10  Corporate        49505  OFF-PA-10000994  209.700         2    54.5220   \n",
       "20   Consumer        10024  OFF-LA-10001297   72.450         7     5.3820   \n",
       "21   Consumer        10024  OFF-FA-10000585   13.960         4     1.8846   \n",
       "22   Consumer        10024  OFF-BI-10001922   33.264         7     3.1482   \n",
       "23   Consumer        10024  TEC-PH-10000347   14.850         3     3.6135   \n",
       "\n",
       "           Category Sub-Category Returned customer_id             segment  \\\n",
       "10  Office Supplies        Paper      NaN    KB-16600  Potential Loyalist   \n",
       "20  Office Supplies       Labels      NaN    JF-15415  Potential Loyalist   \n",
       "21  Office Supplies    Fasteners      NaN    JF-15415  Potential Loyalist   \n",
       "22  Office Supplies      Binders      NaN    JF-15415  Potential Loyalist   \n",
       "23       Technology       Phones      NaN    JF-15415  Potential Loyalist   \n",
       "\n",
       "    year  \n",
       "10  2017  \n",
       "20  2017  \n",
       "21  2017  \n",
       "22  2017  \n",
       "23  2017  "
      ]
     },
     "execution_count": 30,
     "metadata": {},
     "output_type": "execute_result"
    }
   ],
   "source": [
    "# Filter successful transactions of Potential Loyalist\n",
    "potential = data.query('segment==\"Potential Loyalist\" and Returned!=\"Yes\"')\n",
    "potential.head(5)"
   ]
  },
  {
   "cell_type": "markdown",
   "id": "eb746951",
   "metadata": {},
   "source": [
    "#### 3.2.1.a. Analysis and insights"
   ]
  },
  {
   "cell_type": "code",
   "execution_count": 31,
   "id": "9d1ff7de",
   "metadata": {},
   "outputs": [
    {
     "data": {
      "text/html": [
       "<div>\n",
       "<style scoped>\n",
       "    .dataframe tbody tr th:only-of-type {\n",
       "        vertical-align: middle;\n",
       "    }\n",
       "\n",
       "    .dataframe tbody tr th {\n",
       "        vertical-align: top;\n",
       "    }\n",
       "\n",
       "    .dataframe thead th {\n",
       "        text-align: right;\n",
       "    }\n",
       "</style>\n",
       "<table border=\"1\" class=\"dataframe\">\n",
       "  <thead>\n",
       "    <tr style=\"text-align: right;\">\n",
       "      <th></th>\n",
       "      <th>year</th>\n",
       "      <th>ord_count</th>\n",
       "      <th>sales</th>\n",
       "      <th>cart_value</th>\n",
       "      <th>count_yoy</th>\n",
       "      <th>sales_yoy</th>\n",
       "      <th>cart_yoy</th>\n",
       "    </tr>\n",
       "  </thead>\n",
       "  <tbody>\n",
       "    <tr>\n",
       "      <th>0</th>\n",
       "      <td>2014</td>\n",
       "      <td>129</td>\n",
       "      <td>30010.9115</td>\n",
       "      <td>232.642725</td>\n",
       "      <td>NaN</td>\n",
       "      <td>NaN</td>\n",
       "      <td>NaN</td>\n",
       "    </tr>\n",
       "    <tr>\n",
       "      <th>1</th>\n",
       "      <td>2015</td>\n",
       "      <td>164</td>\n",
       "      <td>36978.4710</td>\n",
       "      <td>225.478482</td>\n",
       "      <td>27.13</td>\n",
       "      <td>23.22</td>\n",
       "      <td>-3.08</td>\n",
       "    </tr>\n",
       "    <tr>\n",
       "      <th>2</th>\n",
       "      <td>2016</td>\n",
       "      <td>194</td>\n",
       "      <td>51314.5770</td>\n",
       "      <td>264.508129</td>\n",
       "      <td>18.29</td>\n",
       "      <td>38.77</td>\n",
       "      <td>17.31</td>\n",
       "    </tr>\n",
       "    <tr>\n",
       "      <th>3</th>\n",
       "      <td>2017</td>\n",
       "      <td>313</td>\n",
       "      <td>72640.9708</td>\n",
       "      <td>232.079779</td>\n",
       "      <td>61.34</td>\n",
       "      <td>41.56</td>\n",
       "      <td>-12.26</td>\n",
       "    </tr>\n",
       "  </tbody>\n",
       "</table>\n",
       "</div>"
      ],
      "text/plain": [
       "   year  ord_count       sales  cart_value  count_yoy  sales_yoy  cart_yoy\n",
       "0  2014        129  30010.9115  232.642725        NaN        NaN       NaN\n",
       "1  2015        164  36978.4710  225.478482      27.13      23.22     -3.08\n",
       "2  2016        194  51314.5770  264.508129      18.29      38.77     17.31\n",
       "3  2017        313  72640.9708  232.079779      61.34      41.56    -12.26"
      ]
     },
     "execution_count": 31,
     "metadata": {},
     "output_type": "execute_result"
    }
   ],
   "source": [
    "# Calculate orders count, sales by year\n",
    "p_ord=potential.groupby('year').agg(ord_count=('Order ID','nunique'),\n",
    "                               sales=('Sales','sum')).reset_index()\n",
    "\n",
    "# cart value by year\n",
    "p_ord['cart_value']= p_ord['sales']/p_ord['ord_count']\n",
    "\n",
    "# Calculate percentage change over years\n",
    "p_ord['count_yoy']=p_ord['ord_count'].pct_change().round(4)*100\n",
    "p_ord['sales_yoy']=p_ord['sales'].pct_change().round(4)*100\n",
    "p_ord['cart_yoy']=p_ord['cart_value'].pct_change().round(4)*100\n",
    "p_ord.sort_values(by='year',inplace=True)\n",
    "\n",
    "p_ord"
   ]
  },
  {
   "cell_type": "code",
   "execution_count": 59,
   "id": "e2e3f140",
   "metadata": {},
   "outputs": [
    {
     "data": {
      "text/plain": [
       "Text(0.5, 1.0, 'Total sales and cart value of Potential Loyalist')"
      ]
     },
     "execution_count": 59,
     "metadata": {},
     "output_type": "execute_result"
    },
    {
     "data": {
      "image/png": "[encoded data removed]",
      "text/plain": [
       "<Figure size 640x480 with 2 Axes>"
      ]
     },
     "metadata": {},
     "output_type": "display_data"
    }
   ],
   "source": [
    "# Visualize sales and cart_value\n",
    "fig, ax1 = plt.subplots()\n",
    "ax2 = ax1.twinx()\n",
    "sns.barplot(data= p_ord, x='year',y= 'sales', palette='crest', ax=ax1)\n",
    "sns.lineplot(data= p_ord, x='year',y= 'cart_value',ax=ax2)\n",
    "plt.title('Total sales and cart value of Potential Loyalist')"
   ]
  },
  {
   "cell_type": "markdown",
   "id": "f0dcfbca",
   "metadata": {},
   "source": [
    "***Comment:***\n",
    "- The number of orders in general increased in the period 2014-2017, there was a decrease of 18.29% in 2016 but then increased by 61.34% in 2017, reaching 313 orders\n",
    "- Revenue in the period 2014-2017 increased to 72641 dollars at a rate of 41.56% in 2017\n",
    "- Although the number of orders and revenue increased sharply in 2017, the order value in 2017 decreased by 12.26%\n",
    "\n",
    "=> Need to dive into 2016 and 2017 data"
   ]
  },
  {
   "cell_type": "code",
   "execution_count": 33,
   "id": "5b532dd5",
   "metadata": {},
   "outputs": [],
   "source": [
    "# Calculate orders count, sales and cart value by Category in 2016 and 2017\n",
    "pcat= potential.groupby(['year','Category']).agg(ord_count=('Order ID','nunique'),\n",
    "                               sales=('Sales','sum'))\n",
    "pcat['cart_value']= pcat['sales']/pcat['ord_count']\n",
    "pcat.sort_values(by=['Category','year'],inplace=True)\n",
    "pcat = pcat.query('year==\"2016\" or year==\"2017\"').reset_index()\n"
   ]
  },
  {
   "cell_type": "code",
   "execution_count": 34,
   "id": "c58140a0",
   "metadata": {},
   "outputs": [
    {
     "data": {
      "text/plain": [
       "Text(0.5, 1.0, 'Cart value by Category of Potential Loyalist')"
      ]
     },
     "execution_count": 34,
     "metadata": {},
     "output_type": "execute_result"
    },
    {
     "data": {
      "image/png": "[encoded data removed]",
      "text/plain": [
       "<Figure size 640x480 with 1 Axes>"
      ]
     },
     "metadata": {},
     "output_type": "display_data"
    }
   ],
   "source": [
    "# Visualize cart_value by year by category\n",
    "sns.barplot(data= pcat, x='Category',y='cart_value',hue='year', palette='mako')\n",
    "plt.title('Cart value by Category of Potential Loyalist')"
   ]
  },
  {
   "cell_type": "markdown",
   "id": "46c4f7b4",
   "metadata": {},
   "source": [
    "***Comment***\n",
    "\n",
    "The cart_value decreased in 2 categories Furniture and Technology in 2017 despite the increase in the number of orders and the increase in revenue, specifically:\n",
    "\n",
    "- Furniture group in 2017 increased the number of orders by 53% (from 62 to 95 orders) but the cart_value decreased by 18% (from 326 USD to 226 USD)\n",
    "- Technology group in 2017 increased the number of orders 38% (from 40 to 74 orders) but the cart_value decreased by 31% (from 383 USD to 266 USD)"
   ]
  },
  {
   "cell_type": "code",
   "execution_count": 35,
   "id": "5233ab18",
   "metadata": {},
   "outputs": [],
   "source": [
    "# Calculate orders count, sales and cart value by Channel in 2016 and 2017\n",
    "pchan= potential.groupby(['year','Channel']).agg(ord_count=('Order ID','nunique'),\n",
    "                               sales=('Sales','sum'))\n",
    "pchan['cart_value']= pchan['sales']/pchan['ord_count']\n",
    "pchan.sort_values(by=['Channel','year'],inplace=True)\n",
    "pchan=pchan.query('year==\"2016\" or year==\"2017\"').reset_index()\n"
   ]
  },
  {
   "cell_type": "code",
   "execution_count": 36,
   "id": "a2f4b94c",
   "metadata": {},
   "outputs": [
    {
     "data": {
      "text/plain": [
       "Text(0.5, 1.0, 'Cart value by Channel of Potential Loyalist')"
      ]
     },
     "execution_count": 36,
     "metadata": {},
     "output_type": "execute_result"
    },
    {
     "data": {
      "image/png": "[encoded data removed]",
      "text/plain": [
       "<Figure size 640x480 with 1 Axes>"
      ]
     },
     "metadata": {},
     "output_type": "display_data"
    }
   ],
   "source": [
    "# Visualize cart_value by year by category\n",
    "sns.barplot(data= pchan, x='Channel',y= 'cart_value',hue='year', palette='mako')\n",
    "plt.title('Cart value by Channel of Potential Loyalist')"
   ]
  },
  {
   "cell_type": "markdown",
   "id": "dca8c2c8",
   "metadata": {},
   "source": [
    "***Comment***\n",
    "\n",
    "There is a change in the buying behavior of 2 channels Consumer and Home Office in 2017. They tend to place more orders but the value of each order is lower, specifically:\n",
    "\n",
    "- Consumer group in 2017 increased orders by 40% (from 112 to 186 orders) but cart_value decreased by 26% (from 292 USD to 214 USD).\n",
    "- Home Office in 2017 increased orders by 76% (from 30 to 53 orders) but cart_value decreased by 22% (from 276 USD to 225 USD)"
   ]
  },
  {
   "cell_type": "code",
   "execution_count": 37,
   "id": "f4d4dd29",
   "metadata": {},
   "outputs": [
    {
     "data": {
      "text/plain": [
       "238.68"
      ]
     },
     "execution_count": 37,
     "metadata": {},
     "output_type": "execute_result"
    }
   ],
   "source": [
    "# Calculate avg cart value of Potential Loyalist\n",
    "p_cart_value = potential['Sales'].sum()/potential['Order ID'].nunique()\n",
    "p_cart_value.round(2)"
   ]
  },
  {
   "cell_type": "code",
   "execution_count": 38,
   "id": "42aa9598",
   "metadata": {},
   "outputs": [
    {
     "data": {
      "text/html": [
       "<div>\n",
       "<style scoped>\n",
       "    .dataframe tbody tr th:only-of-type {\n",
       "        vertical-align: middle;\n",
       "    }\n",
       "\n",
       "    .dataframe tbody tr th {\n",
       "        vertical-align: top;\n",
       "    }\n",
       "\n",
       "    .dataframe thead th {\n",
       "        text-align: right;\n",
       "    }\n",
       "</style>\n",
       "<table border=\"1\" class=\"dataframe\">\n",
       "  <thead>\n",
       "    <tr style=\"text-align: right;\">\n",
       "      <th></th>\n",
       "      <th>Sub-Category</th>\n",
       "      <th>Order ID</th>\n",
       "      <th>Sales</th>\n",
       "    </tr>\n",
       "  </thead>\n",
       "  <tbody>\n",
       "    <tr>\n",
       "      <th>12</th>\n",
       "      <td>Paper</td>\n",
       "      <td>220</td>\n",
       "      <td>11769.054</td>\n",
       "    </tr>\n",
       "    <tr>\n",
       "      <th>3</th>\n",
       "      <td>Binders</td>\n",
       "      <td>219</td>\n",
       "      <td>16595.073</td>\n",
       "    </tr>\n",
       "    <tr>\n",
       "      <th>9</th>\n",
       "      <td>Furnishings</td>\n",
       "      <td>145</td>\n",
       "      <td>14315.404</td>\n",
       "    </tr>\n",
       "    <tr>\n",
       "      <th>14</th>\n",
       "      <td>Storage</td>\n",
       "      <td>121</td>\n",
       "      <td>20149.588</td>\n",
       "    </tr>\n",
       "    <tr>\n",
       "      <th>2</th>\n",
       "      <td>Art</td>\n",
       "      <td>111</td>\n",
       "      <td>5357.284</td>\n",
       "    </tr>\n",
       "  </tbody>\n",
       "</table>\n",
       "</div>"
      ],
      "text/plain": [
       "   Sub-Category  Order ID      Sales\n",
       "12        Paper       220  11769.054\n",
       "3       Binders       219  16595.073\n",
       "9   Furnishings       145  14315.404\n",
       "14      Storage       121  20149.588\n",
       "2           Art       111   5357.284"
      ]
     },
     "execution_count": 38,
     "metadata": {},
     "output_type": "execute_result"
    }
   ],
   "source": [
    "# Top 5 subcategory by orders count of Potential Loyalist\n",
    "psub= potential.groupby('Sub-Category').agg({'Order ID':'count','Sales':'sum'}).reset_index()\n",
    "psub.sort_values(by='Order ID',ascending=False,inplace=True)\n",
    "psub.head(5)"
   ]
  },
  {
   "cell_type": "markdown",
   "id": "d2f0daea",
   "metadata": {},
   "source": [
    "#### 3.2.1.b. Reccomendation for Potential Loyalist segment"
   ]
  },
  {
   "cell_type": "markdown",
   "id": "fafaaf93",
   "metadata": {},
   "source": [
    "\n",
    "- Special promotions are needed for customers that buy products in the same category and reach a cart_value above 238.68 USD (current average cart_value of this segment) to motivate customers to buy related products and increase the cart value.\n",
    "- Offer membership/loyalty program, focusing on 2 channels Consumer and Home Office and 2 categories Furniture and Technology.\n",
    "- Recommend to customers the best-selling Sub-category such as Paper, Binders, Furnishings, Storage and Art\n"
   ]
  },
  {
   "cell_type": "markdown",
   "id": "b2ad8dff",
   "metadata": {},
   "source": [
    "### 3.2.2. At Risk"
   ]
  },
  {
   "cell_type": "markdown",
   "id": "8058fd0c",
   "metadata": {},
   "source": [
    "#### 3.2.2.a. Analysis and Insights"
   ]
  },
  {
   "cell_type": "code",
   "execution_count": 39,
   "id": "418f51f6",
   "metadata": {},
   "outputs": [
    {
     "data": {
      "text/html": [
       "<div>\n",
       "<style scoped>\n",
       "    .dataframe tbody tr th:only-of-type {\n",
       "        vertical-align: middle;\n",
       "    }\n",
       "\n",
       "    .dataframe tbody tr th {\n",
       "        vertical-align: top;\n",
       "    }\n",
       "\n",
       "    .dataframe thead th {\n",
       "        text-align: right;\n",
       "    }\n",
       "</style>\n",
       "<table border=\"1\" class=\"dataframe\">\n",
       "  <thead>\n",
       "    <tr style=\"text-align: right;\">\n",
       "      <th></th>\n",
       "      <th>Row ID</th>\n",
       "      <th>Order ID</th>\n",
       "      <th>Order Date</th>\n",
       "      <th>Ship Date</th>\n",
       "      <th>Ship Mode</th>\n",
       "      <th>Customer ID</th>\n",
       "      <th>Channel</th>\n",
       "      <th>Postal Code</th>\n",
       "      <th>Product ID</th>\n",
       "      <th>Sales</th>\n",
       "      <th>Quantity</th>\n",
       "      <th>Unit Cost</th>\n",
       "      <th>Category</th>\n",
       "      <th>Sub-Category</th>\n",
       "      <th>Returned</th>\n",
       "      <th>customer_id</th>\n",
       "      <th>segment</th>\n",
       "      <th>year</th>\n",
       "    </tr>\n",
       "  </thead>\n",
       "  <tbody>\n",
       "    <tr>\n",
       "      <th>1542</th>\n",
       "      <td>5895</td>\n",
       "      <td>CA-2017-100825</td>\n",
       "      <td>2017-09-09</td>\n",
       "      <td>2017-09-14</td>\n",
       "      <td>Standard Class</td>\n",
       "      <td>KD-16495</td>\n",
       "      <td>Corporate</td>\n",
       "      <td>90036</td>\n",
       "      <td>OFF-ST-10003123</td>\n",
       "      <td>99.870</td>\n",
       "      <td>3</td>\n",
       "      <td>25.3004</td>\n",
       "      <td>Office Supplies</td>\n",
       "      <td>Storage</td>\n",
       "      <td>NaN</td>\n",
       "      <td>KD-16495</td>\n",
       "      <td>At Risk</td>\n",
       "      <td>2017</td>\n",
       "    </tr>\n",
       "    <tr>\n",
       "      <th>1543</th>\n",
       "      <td>6256</td>\n",
       "      <td>CA-2017-139444</td>\n",
       "      <td>2017-09-09</td>\n",
       "      <td>2017-09-15</td>\n",
       "      <td>Standard Class</td>\n",
       "      <td>GK-14620</td>\n",
       "      <td>Corporate</td>\n",
       "      <td>75023</td>\n",
       "      <td>OFF-LA-10000134</td>\n",
       "      <td>9.856</td>\n",
       "      <td>4</td>\n",
       "      <td>1.6016</td>\n",
       "      <td>Office Supplies</td>\n",
       "      <td>Labels</td>\n",
       "      <td>NaN</td>\n",
       "      <td>GK-14620</td>\n",
       "      <td>At Risk</td>\n",
       "      <td>2017</td>\n",
       "    </tr>\n",
       "    <tr>\n",
       "      <th>1553</th>\n",
       "      <td>3127</td>\n",
       "      <td>CA-2017-149895</td>\n",
       "      <td>2017-09-08</td>\n",
       "      <td>2017-09-12</td>\n",
       "      <td>Standard Class</td>\n",
       "      <td>EB-14110</td>\n",
       "      <td>Consumer</td>\n",
       "      <td>19134</td>\n",
       "      <td>TEC-PH-10002200</td>\n",
       "      <td>258.528</td>\n",
       "      <td>2</td>\n",
       "      <td>152.9624</td>\n",
       "      <td>Technology</td>\n",
       "      <td>Phones</td>\n",
       "      <td>NaN</td>\n",
       "      <td>EB-14110</td>\n",
       "      <td>At Risk</td>\n",
       "      <td>2017</td>\n",
       "    </tr>\n",
       "    <tr>\n",
       "      <th>1601</th>\n",
       "      <td>3513</td>\n",
       "      <td>CA-2017-140326</td>\n",
       "      <td>2017-09-04</td>\n",
       "      <td>2017-09-06</td>\n",
       "      <td>First Class</td>\n",
       "      <td>HW-14935</td>\n",
       "      <td>Corporate</td>\n",
       "      <td>60653</td>\n",
       "      <td>FUR-BO-10000112</td>\n",
       "      <td>825.174</td>\n",
       "      <td>9</td>\n",
       "      <td>104.7840</td>\n",
       "      <td>Furniture</td>\n",
       "      <td>Bookcases</td>\n",
       "      <td>NaN</td>\n",
       "      <td>HW-14935</td>\n",
       "      <td>At Risk</td>\n",
       "      <td>2017</td>\n",
       "    </tr>\n",
       "    <tr>\n",
       "      <th>1602</th>\n",
       "      <td>3514</td>\n",
       "      <td>CA-2017-140326</td>\n",
       "      <td>2017-09-04</td>\n",
       "      <td>2017-09-06</td>\n",
       "      <td>First Class</td>\n",
       "      <td>HW-14935</td>\n",
       "      <td>Corporate</td>\n",
       "      <td>60653</td>\n",
       "      <td>OFF-PA-10004041</td>\n",
       "      <td>17.760</td>\n",
       "      <td>3</td>\n",
       "      <td>4.0700</td>\n",
       "      <td>Office Supplies</td>\n",
       "      <td>Paper</td>\n",
       "      <td>NaN</td>\n",
       "      <td>HW-14935</td>\n",
       "      <td>At Risk</td>\n",
       "      <td>2017</td>\n",
       "    </tr>\n",
       "  </tbody>\n",
       "</table>\n",
       "</div>"
      ],
      "text/plain": [
       "      Row ID        Order ID Order Date  Ship Date       Ship Mode  \\\n",
       "1542    5895  CA-2017-100825 2017-09-09 2017-09-14  Standard Class   \n",
       "1543    6256  CA-2017-139444 2017-09-09 2017-09-15  Standard Class   \n",
       "1553    3127  CA-2017-149895 2017-09-08 2017-09-12  Standard Class   \n",
       "1601    3513  CA-2017-140326 2017-09-04 2017-09-06     First Class   \n",
       "1602    3514  CA-2017-140326 2017-09-04 2017-09-06     First Class   \n",
       "\n",
       "     Customer ID    Channel  Postal Code       Product ID    Sales  Quantity  \\\n",
       "1542    KD-16495  Corporate        90036  OFF-ST-10003123   99.870         3   \n",
       "1543    GK-14620  Corporate        75023  OFF-LA-10000134    9.856         4   \n",
       "1553    EB-14110   Consumer        19134  TEC-PH-10002200  258.528         2   \n",
       "1601    HW-14935  Corporate        60653  FUR-BO-10000112  825.174         9   \n",
       "1602    HW-14935  Corporate        60653  OFF-PA-10004041   17.760         3   \n",
       "\n",
       "      Unit Cost         Category Sub-Category Returned customer_id  segment  \\\n",
       "1542    25.3004  Office Supplies      Storage      NaN    KD-16495  At Risk   \n",
       "1543     1.6016  Office Supplies       Labels      NaN    GK-14620  At Risk   \n",
       "1553   152.9624       Technology       Phones      NaN    EB-14110  At Risk   \n",
       "1601   104.7840        Furniture    Bookcases      NaN    HW-14935  At Risk   \n",
       "1602     4.0700  Office Supplies        Paper      NaN    HW-14935  At Risk   \n",
       "\n",
       "      year  \n",
       "1542  2017  \n",
       "1543  2017  \n",
       "1553  2017  \n",
       "1601  2017  \n",
       "1602  2017  "
      ]
     },
     "execution_count": 39,
     "metadata": {},
     "output_type": "execute_result"
    }
   ],
   "source": [
    "# Filter successful transactions of At Risk\n",
    "risk =  data.query('segment==\"At Risk\" and Returned!=\"Yes\"')\n",
    "risk.head(5)"
   ]
  },
  {
   "cell_type": "code",
   "execution_count": 40,
   "id": "1371ba38",
   "metadata": {},
   "outputs": [
    {
     "data": {
      "text/html": [
       "<div>\n",
       "<style scoped>\n",
       "    .dataframe tbody tr th:only-of-type {\n",
       "        vertical-align: middle;\n",
       "    }\n",
       "\n",
       "    .dataframe tbody tr th {\n",
       "        vertical-align: top;\n",
       "    }\n",
       "\n",
       "    .dataframe thead th {\n",
       "        text-align: right;\n",
       "    }\n",
       "</style>\n",
       "<table border=\"1\" class=\"dataframe\">\n",
       "  <thead>\n",
       "    <tr style=\"text-align: right;\">\n",
       "      <th></th>\n",
       "      <th>year</th>\n",
       "      <th>ord_count</th>\n",
       "      <th>sales</th>\n",
       "      <th>cart_value</th>\n",
       "      <th>count_yoy</th>\n",
       "      <th>sales_yoy</th>\n",
       "      <th>cart_yoy</th>\n",
       "    </tr>\n",
       "  </thead>\n",
       "  <tbody>\n",
       "    <tr>\n",
       "      <th>0</th>\n",
       "      <td>2014</td>\n",
       "      <td>155</td>\n",
       "      <td>99281.3381</td>\n",
       "      <td>640.524762</td>\n",
       "      <td>NaN</td>\n",
       "      <td>NaN</td>\n",
       "      <td>NaN</td>\n",
       "    </tr>\n",
       "    <tr>\n",
       "      <th>1</th>\n",
       "      <td>2015</td>\n",
       "      <td>196</td>\n",
       "      <td>91694.5870</td>\n",
       "      <td>467.829526</td>\n",
       "      <td>26.45</td>\n",
       "      <td>-7.64</td>\n",
       "      <td>-26.96</td>\n",
       "    </tr>\n",
       "    <tr>\n",
       "      <th>2</th>\n",
       "      <td>2016</td>\n",
       "      <td>194</td>\n",
       "      <td>114496.5370</td>\n",
       "      <td>590.188335</td>\n",
       "      <td>-1.02</td>\n",
       "      <td>24.87</td>\n",
       "      <td>26.15</td>\n",
       "    </tr>\n",
       "    <tr>\n",
       "      <th>3</th>\n",
       "      <td>2017</td>\n",
       "      <td>152</td>\n",
       "      <td>80524.4240</td>\n",
       "      <td>529.765947</td>\n",
       "      <td>-21.65</td>\n",
       "      <td>-29.67</td>\n",
       "      <td>-10.24</td>\n",
       "    </tr>\n",
       "  </tbody>\n",
       "</table>\n",
       "</div>"
      ],
      "text/plain": [
       "   year  ord_count        sales  cart_value  count_yoy  sales_yoy  cart_yoy\n",
       "0  2014        155   99281.3381  640.524762        NaN        NaN       NaN\n",
       "1  2015        196   91694.5870  467.829526      26.45      -7.64    -26.96\n",
       "2  2016        194  114496.5370  590.188335      -1.02      24.87     26.15\n",
       "3  2017        152   80524.4240  529.765947     -21.65     -29.67    -10.24"
      ]
     },
     "execution_count": 40,
     "metadata": {},
     "output_type": "execute_result"
    }
   ],
   "source": [
    "# Calculate orders count, sales and cart value by year \n",
    "r_ord=risk.groupby('year').agg(ord_count=('Order ID','nunique'),\n",
    "                               sales=('Sales','sum')).reset_index()\n",
    "\n",
    "r_ord['cart_value']= r_ord['sales']/r_ord['ord_count']\n",
    "\n",
    "r_ord['count_yoy']=r_ord['ord_count'].pct_change().round(4)*100\n",
    "r_ord['sales_yoy']=r_ord['sales'].pct_change().round(4)*100\n",
    "r_ord['cart_yoy']=r_ord['cart_value'].pct_change().round(4)*100\n",
    "r_ord.sort_values(by='year',inplace=True)\n",
    "r_ord"
   ]
  },
  {
   "cell_type": "code",
   "execution_count": 41,
   "id": "66822e30",
   "metadata": {},
   "outputs": [
    {
     "data": {
      "text/plain": [
       "Text(0.5, 1.0, 'Total sales and cart value of At Risk segment')"
      ]
     },
     "execution_count": 41,
     "metadata": {},
     "output_type": "execute_result"
    },
    {
     "data": {
      "image/png": "[encoded data removed]",
      "text/plain": [
       "<Figure size 640x480 with 2 Axes>"
      ]
     },
     "metadata": {},
     "output_type": "display_data"
    }
   ],
   "source": [
    "# Visualize sales and cart_value\n",
    "fig, ax1 = plt.subplots()\n",
    "ax2 = ax1.twinx()\n",
    "\n",
    "sns.barplot(data= r_ord, x='year',y= 'sales', palette='crest', ax=ax1)\n",
    "sns.lineplot(data= r_ord, x='year',y= 'cart_value',ax=ax2)\n",
    "plt.title('Total sales and cart value of At Risk segment')"
   ]
  },
  {
   "cell_type": "markdown",
   "id": "33ec3d69",
   "metadata": {},
   "source": [
    "***Comment***\n",
    "\n",
    "In 2016, the number of orders decreased slightly (1.02%) but revenue and order value increased by 24.87% and 26.15% respectively. However, in 2017, there was a decline in all 3 indicators:\n",
    "- The number of orders decreased by 21.65% to 152 orders\n",
    "- Revenue down 29.67% to 80524 USD\n",
    "- Order value reduced by 10.24% to 530 USD/order\n",
    "\n",
    "=> Need to dive into 2016 and 2017 data"
   ]
  },
  {
   "cell_type": "code",
   "execution_count": 42,
   "id": "aea45613",
   "metadata": {},
   "outputs": [
    {
     "data": {
      "text/html": [
       "<div>\n",
       "<style scoped>\n",
       "    .dataframe tbody tr th:only-of-type {\n",
       "        vertical-align: middle;\n",
       "    }\n",
       "\n",
       "    .dataframe tbody tr th {\n",
       "        vertical-align: top;\n",
       "    }\n",
       "\n",
       "    .dataframe thead th {\n",
       "        text-align: right;\n",
       "    }\n",
       "</style>\n",
       "<table border=\"1\" class=\"dataframe\">\n",
       "  <thead>\n",
       "    <tr style=\"text-align: right;\">\n",
       "      <th></th>\n",
       "      <th>year</th>\n",
       "      <th>Category</th>\n",
       "      <th>ord_count</th>\n",
       "      <th>sales</th>\n",
       "      <th>cart_value</th>\n",
       "    </tr>\n",
       "  </thead>\n",
       "  <tbody>\n",
       "    <tr>\n",
       "      <th>0</th>\n",
       "      <td>2016</td>\n",
       "      <td>Furniture</td>\n",
       "      <td>78</td>\n",
       "      <td>27306.173</td>\n",
       "      <td>350.079141</td>\n",
       "    </tr>\n",
       "    <tr>\n",
       "      <th>1</th>\n",
       "      <td>2017</td>\n",
       "      <td>Furniture</td>\n",
       "      <td>51</td>\n",
       "      <td>24283.290</td>\n",
       "      <td>476.142941</td>\n",
       "    </tr>\n",
       "    <tr>\n",
       "      <th>2</th>\n",
       "      <td>2016</td>\n",
       "      <td>Office Supplies</td>\n",
       "      <td>141</td>\n",
       "      <td>37060.067</td>\n",
       "      <td>262.837355</td>\n",
       "    </tr>\n",
       "    <tr>\n",
       "      <th>3</th>\n",
       "      <td>2017</td>\n",
       "      <td>Office Supplies</td>\n",
       "      <td>107</td>\n",
       "      <td>21733.152</td>\n",
       "      <td>203.113570</td>\n",
       "    </tr>\n",
       "    <tr>\n",
       "      <th>4</th>\n",
       "      <td>2016</td>\n",
       "      <td>Technology</td>\n",
       "      <td>60</td>\n",
       "      <td>50130.297</td>\n",
       "      <td>835.504950</td>\n",
       "    </tr>\n",
       "    <tr>\n",
       "      <th>5</th>\n",
       "      <td>2017</td>\n",
       "      <td>Technology</td>\n",
       "      <td>53</td>\n",
       "      <td>34507.982</td>\n",
       "      <td>651.094000</td>\n",
       "    </tr>\n",
       "  </tbody>\n",
       "</table>\n",
       "</div>"
      ],
      "text/plain": [
       "   year         Category  ord_count      sales  cart_value\n",
       "0  2016        Furniture         78  27306.173  350.079141\n",
       "1  2017        Furniture         51  24283.290  476.142941\n",
       "2  2016  Office Supplies        141  37060.067  262.837355\n",
       "3  2017  Office Supplies        107  21733.152  203.113570\n",
       "4  2016       Technology         60  50130.297  835.504950\n",
       "5  2017       Technology         53  34507.982  651.094000"
      ]
     },
     "execution_count": 42,
     "metadata": {},
     "output_type": "execute_result"
    }
   ],
   "source": [
    "# Calculate orders count, sales and cart value by Category in 2016 and 2017\n",
    "r_cat= risk.groupby(['year','Category']).agg(ord_count=('Order ID','nunique'),\n",
    "                               sales=('Sales','sum'))\n",
    "r_cat['cart_value']= r_cat['sales']/r_cat['ord_count']\n",
    "r_cat.sort_values(by=['Category','year'],inplace=True)\n",
    "r_cat = r_cat.query('year==\"2016\" or year==\"2017\"').reset_index()\n",
    "r_cat"
   ]
  },
  {
   "cell_type": "code",
   "execution_count": 43,
   "id": "77c6275e",
   "metadata": {},
   "outputs": [
    {
     "data": {
      "text/plain": [
       "Text(0.5, 1.0, 'Cart value by Category of At Risk segment')"
      ]
     },
     "execution_count": 43,
     "metadata": {},
     "output_type": "execute_result"
    },
    {
     "data": {
      "image/png": "[encoded data removed]",
      "text/plain": [
       "<Figure size 640x480 with 1 Axes>"
      ]
     },
     "metadata": {},
     "output_type": "display_data"
    }
   ],
   "source": [
    "# Visualize cart_value by year by category\n",
    "sns.barplot(data= r_cat, x='Category',y='cart_value',hue='year', palette='mako')\n",
    "plt.title('Cart value by Category of At Risk segment')"
   ]
  },
  {
   "cell_type": "markdown",
   "id": "aaaf181d",
   "metadata": {},
   "source": [
    "***Comment***\n",
    "\n",
    "In 2017, all 3 Categories showed a decrease in orders and revenue, 2 Categories Office Supplies and Technology experienced a decrease in cart value:\n",
    "\n",
    "- Cart value of Office Supplies group in 2017 decreased by 23% (from 263 USD to 203 USD)\n",
    "- Cart value of Technology group in 2017 decreased by 22% (from 836 USD to 651 USD)\n",
    "- Meanwhile, the Furniture group has an increase in the cart value from 350 USD to 476 USD"
   ]
  },
  {
   "cell_type": "code",
   "execution_count": 44,
   "id": "eed7433b",
   "metadata": {},
   "outputs": [
    {
     "data": {
      "text/html": [
       "<div>\n",
       "<style scoped>\n",
       "    .dataframe tbody tr th:only-of-type {\n",
       "        vertical-align: middle;\n",
       "    }\n",
       "\n",
       "    .dataframe tbody tr th {\n",
       "        vertical-align: top;\n",
       "    }\n",
       "\n",
       "    .dataframe thead th {\n",
       "        text-align: right;\n",
       "    }\n",
       "</style>\n",
       "<table border=\"1\" class=\"dataframe\">\n",
       "  <thead>\n",
       "    <tr style=\"text-align: right;\">\n",
       "      <th></th>\n",
       "      <th>year</th>\n",
       "      <th>Channel</th>\n",
       "      <th>ord_count</th>\n",
       "      <th>sales</th>\n",
       "      <th>cart_value</th>\n",
       "    </tr>\n",
       "  </thead>\n",
       "  <tbody>\n",
       "    <tr>\n",
       "      <th>0</th>\n",
       "      <td>2016</td>\n",
       "      <td>Consumer</td>\n",
       "      <td>90</td>\n",
       "      <td>52110.999</td>\n",
       "      <td>579.011100</td>\n",
       "    </tr>\n",
       "    <tr>\n",
       "      <th>1</th>\n",
       "      <td>2017</td>\n",
       "      <td>Consumer</td>\n",
       "      <td>75</td>\n",
       "      <td>27895.952</td>\n",
       "      <td>371.946027</td>\n",
       "    </tr>\n",
       "    <tr>\n",
       "      <th>2</th>\n",
       "      <td>2016</td>\n",
       "      <td>Corporate</td>\n",
       "      <td>68</td>\n",
       "      <td>47553.771</td>\n",
       "      <td>699.320162</td>\n",
       "    </tr>\n",
       "    <tr>\n",
       "      <th>3</th>\n",
       "      <td>2017</td>\n",
       "      <td>Corporate</td>\n",
       "      <td>50</td>\n",
       "      <td>33334.159</td>\n",
       "      <td>666.683180</td>\n",
       "    </tr>\n",
       "    <tr>\n",
       "      <th>4</th>\n",
       "      <td>2016</td>\n",
       "      <td>Home Office</td>\n",
       "      <td>36</td>\n",
       "      <td>14831.767</td>\n",
       "      <td>411.993528</td>\n",
       "    </tr>\n",
       "    <tr>\n",
       "      <th>5</th>\n",
       "      <td>2017</td>\n",
       "      <td>Home Office</td>\n",
       "      <td>27</td>\n",
       "      <td>19294.313</td>\n",
       "      <td>714.604185</td>\n",
       "    </tr>\n",
       "  </tbody>\n",
       "</table>\n",
       "</div>"
      ],
      "text/plain": [
       "   year      Channel  ord_count      sales  cart_value\n",
       "0  2016     Consumer         90  52110.999  579.011100\n",
       "1  2017     Consumer         75  27895.952  371.946027\n",
       "2  2016    Corporate         68  47553.771  699.320162\n",
       "3  2017    Corporate         50  33334.159  666.683180\n",
       "4  2016  Home Office         36  14831.767  411.993528\n",
       "5  2017  Home Office         27  19294.313  714.604185"
      ]
     },
     "execution_count": 44,
     "metadata": {},
     "output_type": "execute_result"
    }
   ],
   "source": [
    "# Calculate orders count, sales and cart value by Channel in 2016 and 2017\n",
    "r_chan= risk.groupby(['year','Channel']).agg(ord_count=('Order ID','nunique'),\n",
    "                               sales=('Sales','sum'))\n",
    "r_chan['cart_value']= r_chan['sales']/r_chan['ord_count']\n",
    "r_chan.sort_values(by=['Channel','year'],inplace=True)\n",
    "r_chan = r_chan.query('year==\"2016\" or year==\"2017\"').reset_index()\n",
    "r_chan"
   ]
  },
  {
   "cell_type": "code",
   "execution_count": 45,
   "id": "71ece22a",
   "metadata": {},
   "outputs": [
    {
     "data": {
      "text/plain": [
       "Text(0.5, 1.0, 'Cart value by Channel of At Risk segment')"
      ]
     },
     "execution_count": 45,
     "metadata": {},
     "output_type": "execute_result"
    },
    {
     "data": {
      "image/png": "[encoded data removed]",
      "text/plain": [
       "<Figure size 640x480 with 1 Axes>"
      ]
     },
     "metadata": {},
     "output_type": "display_data"
    }
   ],
   "source": [
    "# Visualize cart_value by year by channel\n",
    "sns.barplot(data= r_chan, x='Channel',y='cart_value',hue='year', palette='mako')\n",
    "plt.title('Cart value by Channel of At Risk segment')"
   ]
  },
  {
   "cell_type": "markdown",
   "id": "2b3198ee",
   "metadata": {},
   "source": [
    "***Comment***\n",
    "\n",
    "In 2017, while the Consumer and Corporate channels experienced a decrease in the number of orders, revenue and cart value, the Home Office channel, despite a decrease in the number of orders, still recorded an increase in revenue and cart value:\n",
    "\n",
    "- Consumer group reduced the number of orders by 17% and cart value by 38%\n",
    "- Corporate group reduced the number of orders by 26% and cart value by 5%\n",
    "- Office reduced the number of orders by 25% but cart value increased by 73%"
   ]
  },
  {
   "cell_type": "code",
   "execution_count": 46,
   "id": "bfcd4c03",
   "metadata": {},
   "outputs": [
    {
     "data": {
      "text/html": [
       "<div>\n",
       "<style scoped>\n",
       "    .dataframe tbody tr th:only-of-type {\n",
       "        vertical-align: middle;\n",
       "    }\n",
       "\n",
       "    .dataframe tbody tr th {\n",
       "        vertical-align: top;\n",
       "    }\n",
       "\n",
       "    .dataframe thead th {\n",
       "        text-align: right;\n",
       "    }\n",
       "</style>\n",
       "<table border=\"1\" class=\"dataframe\">\n",
       "  <thead>\n",
       "    <tr style=\"text-align: right;\">\n",
       "      <th></th>\n",
       "      <th>ord_count</th>\n",
       "      <th>sales</th>\n",
       "      <th>cart_value</th>\n",
       "    </tr>\n",
       "    <tr>\n",
       "      <th>Sub-Category</th>\n",
       "      <th></th>\n",
       "      <th></th>\n",
       "      <th></th>\n",
       "    </tr>\n",
       "  </thead>\n",
       "  <tbody>\n",
       "    <tr>\n",
       "      <th>Binders</th>\n",
       "      <td>169</td>\n",
       "      <td>37163.381</td>\n",
       "      <td>219.901663</td>\n",
       "    </tr>\n",
       "    <tr>\n",
       "      <th>Paper</th>\n",
       "      <td>162</td>\n",
       "      <td>11273.090</td>\n",
       "      <td>69.586975</td>\n",
       "    </tr>\n",
       "    <tr>\n",
       "      <th>Furnishings</th>\n",
       "      <td>123</td>\n",
       "      <td>12298.648</td>\n",
       "      <td>99.989008</td>\n",
       "    </tr>\n",
       "    <tr>\n",
       "      <th>Phones</th>\n",
       "      <td>120</td>\n",
       "      <td>44957.068</td>\n",
       "      <td>374.642233</td>\n",
       "    </tr>\n",
       "    <tr>\n",
       "      <th>Storage</th>\n",
       "      <td>110</td>\n",
       "      <td>36276.012</td>\n",
       "      <td>329.781927</td>\n",
       "    </tr>\n",
       "  </tbody>\n",
       "</table>\n",
       "</div>"
      ],
      "text/plain": [
       "              ord_count      sales  cart_value\n",
       "Sub-Category                                  \n",
       "Binders             169  37163.381  219.901663\n",
       "Paper               162  11273.090   69.586975\n",
       "Furnishings         123  12298.648   99.989008\n",
       "Phones              120  44957.068  374.642233\n",
       "Storage             110  36276.012  329.781927"
      ]
     },
     "execution_count": 46,
     "metadata": {},
     "output_type": "execute_result"
    }
   ],
   "source": [
    "# Top 5 subcategory by orders count of At Risk\n",
    "rsub= risk.groupby('Sub-Category').agg(ord_count=('Order ID','nunique'),\n",
    "                               sales=('Sales','sum'))\n",
    "rsub['cart_value']= rsub['sales']/rsub['ord_count']\n",
    "rsub.sort_values(by='ord_count',ascending=False,inplace=True)\n",
    "rsub.head(5)"
   ]
  },
  {
   "cell_type": "code",
   "execution_count": 47,
   "id": "8496ecca",
   "metadata": {},
   "outputs": [
    {
     "data": {
      "text/html": [
       "<div>\n",
       "<style scoped>\n",
       "    .dataframe tbody tr th:only-of-type {\n",
       "        vertical-align: middle;\n",
       "    }\n",
       "\n",
       "    .dataframe tbody tr th {\n",
       "        vertical-align: top;\n",
       "    }\n",
       "\n",
       "    .dataframe thead th {\n",
       "        text-align: right;\n",
       "    }\n",
       "</style>\n",
       "<table border=\"1\" class=\"dataframe\">\n",
       "  <thead>\n",
       "    <tr style=\"text-align: right;\">\n",
       "      <th></th>\n",
       "      <th>Ship Mode</th>\n",
       "      <th>ord_count</th>\n",
       "    </tr>\n",
       "  </thead>\n",
       "  <tbody>\n",
       "    <tr>\n",
       "      <th>3</th>\n",
       "      <td>Standard Class</td>\n",
       "      <td>420</td>\n",
       "    </tr>\n",
       "    <tr>\n",
       "      <th>2</th>\n",
       "      <td>Second Class</td>\n",
       "      <td>131</td>\n",
       "    </tr>\n",
       "    <tr>\n",
       "      <th>0</th>\n",
       "      <td>First Class</td>\n",
       "      <td>107</td>\n",
       "    </tr>\n",
       "    <tr>\n",
       "      <th>1</th>\n",
       "      <td>Same Day</td>\n",
       "      <td>39</td>\n",
       "    </tr>\n",
       "  </tbody>\n",
       "</table>\n",
       "</div>"
      ],
      "text/plain": [
       "        Ship Mode  ord_count\n",
       "3  Standard Class        420\n",
       "2    Second Class        131\n",
       "0     First Class        107\n",
       "1        Same Day         39"
      ]
     },
     "execution_count": 47,
     "metadata": {},
     "output_type": "execute_result"
    }
   ],
   "source": [
    "# Calculate orders count by Ship Mode\n",
    "rship= risk.groupby('Ship Mode').agg(ord_count=('Order ID','nunique')).reset_index()\n",
    "rship.sort_values(by='ord_count',ascending=False,inplace=True)\n",
    "rship"
   ]
  },
  {
   "cell_type": "markdown",
   "id": "dc37b5fb",
   "metadata": {},
   "source": [
    "***Comment***\n",
    "\n",
    "Orders in the At Risk segment mainly use Standard Class shipping packages, accounting for 60%"
   ]
  },
  {
   "cell_type": "code",
   "execution_count": 48,
   "id": "36dbffab",
   "metadata": {},
   "outputs": [
    {
     "data": {
      "text/html": [
       "<div>\n",
       "<style scoped>\n",
       "    .dataframe tbody tr th:only-of-type {\n",
       "        vertical-align: middle;\n",
       "    }\n",
       "\n",
       "    .dataframe tbody tr th {\n",
       "        vertical-align: top;\n",
       "    }\n",
       "\n",
       "    .dataframe thead th {\n",
       "        text-align: right;\n",
       "    }\n",
       "</style>\n",
       "<table border=\"1\" class=\"dataframe\">\n",
       "  <thead>\n",
       "    <tr style=\"text-align: right;\">\n",
       "      <th></th>\n",
       "      <th>Row ID</th>\n",
       "      <th>Order ID</th>\n",
       "      <th>Order Date</th>\n",
       "      <th>Ship Date</th>\n",
       "      <th>Ship Mode</th>\n",
       "      <th>Customer ID</th>\n",
       "      <th>Channel</th>\n",
       "      <th>Postal Code</th>\n",
       "      <th>Product ID</th>\n",
       "      <th>Sales</th>\n",
       "      <th>Quantity</th>\n",
       "      <th>Unit Cost</th>\n",
       "      <th>Category</th>\n",
       "      <th>Sub-Category</th>\n",
       "      <th>Returned</th>\n",
       "      <th>customer_id</th>\n",
       "      <th>segment</th>\n",
       "      <th>year</th>\n",
       "    </tr>\n",
       "  </thead>\n",
       "  <tbody>\n",
       "    <tr>\n",
       "      <th>146</th>\n",
       "      <td>1114</td>\n",
       "      <td>CA-2017-140585</td>\n",
       "      <td>2017-12-18</td>\n",
       "      <td>2017-12-23</td>\n",
       "      <td>Second Class</td>\n",
       "      <td>RA-19915</td>\n",
       "      <td>Consumer</td>\n",
       "      <td>92024</td>\n",
       "      <td>OFF-BI-10003364</td>\n",
       "      <td>46.672</td>\n",
       "      <td>2</td>\n",
       "      <td>15.1684</td>\n",
       "      <td>Office Supplies</td>\n",
       "      <td>Binders</td>\n",
       "      <td>Yes</td>\n",
       "      <td>RA-19915</td>\n",
       "      <td>At Risk</td>\n",
       "      <td>2017</td>\n",
       "    </tr>\n",
       "    <tr>\n",
       "      <th>147</th>\n",
       "      <td>1115</td>\n",
       "      <td>CA-2017-140585</td>\n",
       "      <td>2017-12-18</td>\n",
       "      <td>2017-12-23</td>\n",
       "      <td>Second Class</td>\n",
       "      <td>RA-19915</td>\n",
       "      <td>Consumer</td>\n",
       "      <td>92024</td>\n",
       "      <td>FUR-BO-10002206</td>\n",
       "      <td>119.833</td>\n",
       "      <td>1</td>\n",
       "      <td>132.5212</td>\n",
       "      <td>Furniture</td>\n",
       "      <td>Bookcases</td>\n",
       "      <td>Yes</td>\n",
       "      <td>RA-19915</td>\n",
       "      <td>At Risk</td>\n",
       "      <td>2017</td>\n",
       "    </tr>\n",
       "    <tr>\n",
       "      <th>148</th>\n",
       "      <td>1116</td>\n",
       "      <td>CA-2017-140585</td>\n",
       "      <td>2017-12-18</td>\n",
       "      <td>2017-12-23</td>\n",
       "      <td>Second Class</td>\n",
       "      <td>RA-19915</td>\n",
       "      <td>Consumer</td>\n",
       "      <td>92024</td>\n",
       "      <td>TEC-AC-10003610</td>\n",
       "      <td>119.980</td>\n",
       "      <td>2</td>\n",
       "      <td>31.1948</td>\n",
       "      <td>Technology</td>\n",
       "      <td>Accessories</td>\n",
       "      <td>Yes</td>\n",
       "      <td>RA-19915</td>\n",
       "      <td>At Risk</td>\n",
       "      <td>2017</td>\n",
       "    </tr>\n",
       "    <tr>\n",
       "      <th>425</th>\n",
       "      <td>9727</td>\n",
       "      <td>CA-2017-167395</td>\n",
       "      <td>2017-12-02</td>\n",
       "      <td>2017-12-04</td>\n",
       "      <td>First Class</td>\n",
       "      <td>KM-16720</td>\n",
       "      <td>Consumer</td>\n",
       "      <td>1852</td>\n",
       "      <td>OFF-AP-10001293</td>\n",
       "      <td>286.860</td>\n",
       "      <td>7</td>\n",
       "      <td>29.5056</td>\n",
       "      <td>Office Supplies</td>\n",
       "      <td>Appliances</td>\n",
       "      <td>Yes</td>\n",
       "      <td>KM-16720</td>\n",
       "      <td>At Risk</td>\n",
       "      <td>2017</td>\n",
       "    </tr>\n",
       "    <tr>\n",
       "      <th>426</th>\n",
       "      <td>9728</td>\n",
       "      <td>CA-2017-167395</td>\n",
       "      <td>2017-12-02</td>\n",
       "      <td>2017-12-04</td>\n",
       "      <td>First Class</td>\n",
       "      <td>KM-16720</td>\n",
       "      <td>Consumer</td>\n",
       "      <td>1852</td>\n",
       "      <td>TEC-PH-10004977</td>\n",
       "      <td>979.950</td>\n",
       "      <td>5</td>\n",
       "      <td>139.1529</td>\n",
       "      <td>Technology</td>\n",
       "      <td>Phones</td>\n",
       "      <td>Yes</td>\n",
       "      <td>KM-16720</td>\n",
       "      <td>At Risk</td>\n",
       "      <td>2017</td>\n",
       "    </tr>\n",
       "  </tbody>\n",
       "</table>\n",
       "</div>"
      ],
      "text/plain": [
       "     Row ID        Order ID Order Date  Ship Date     Ship Mode Customer ID  \\\n",
       "146    1114  CA-2017-140585 2017-12-18 2017-12-23  Second Class    RA-19915   \n",
       "147    1115  CA-2017-140585 2017-12-18 2017-12-23  Second Class    RA-19915   \n",
       "148    1116  CA-2017-140585 2017-12-18 2017-12-23  Second Class    RA-19915   \n",
       "425    9727  CA-2017-167395 2017-12-02 2017-12-04   First Class    KM-16720   \n",
       "426    9728  CA-2017-167395 2017-12-02 2017-12-04   First Class    KM-16720   \n",
       "\n",
       "      Channel  Postal Code       Product ID    Sales  Quantity  Unit Cost  \\\n",
       "146  Consumer        92024  OFF-BI-10003364   46.672         2    15.1684   \n",
       "147  Consumer        92024  FUR-BO-10002206  119.833         1   132.5212   \n",
       "148  Consumer        92024  TEC-AC-10003610  119.980         2    31.1948   \n",
       "425  Consumer         1852  OFF-AP-10001293  286.860         7    29.5056   \n",
       "426  Consumer         1852  TEC-PH-10004977  979.950         5   139.1529   \n",
       "\n",
       "            Category Sub-Category Returned customer_id  segment  year  \n",
       "146  Office Supplies      Binders      Yes    RA-19915  At Risk  2017  \n",
       "147        Furniture    Bookcases      Yes    RA-19915  At Risk  2017  \n",
       "148       Technology  Accessories      Yes    RA-19915  At Risk  2017  \n",
       "425  Office Supplies   Appliances      Yes    KM-16720  At Risk  2017  \n",
       "426       Technology       Phones      Yes    KM-16720  At Risk  2017  "
      ]
     },
     "execution_count": 48,
     "metadata": {},
     "output_type": "execute_result"
    }
   ],
   "source": [
    "# Filter returned orders of At Risk\n",
    "risk_return = data.query('segment==\"At Risk\" and Returned==\"Yes\"')\n",
    "risk_return.head(5)"
   ]
  },
  {
   "cell_type": "code",
   "execution_count": 49,
   "id": "245815a4",
   "metadata": {},
   "outputs": [
    {
     "data": {
      "text/html": [
       "<div>\n",
       "<style scoped>\n",
       "    .dataframe tbody tr th:only-of-type {\n",
       "        vertical-align: middle;\n",
       "    }\n",
       "\n",
       "    .dataframe tbody tr th {\n",
       "        vertical-align: top;\n",
       "    }\n",
       "\n",
       "    .dataframe thead th {\n",
       "        text-align: right;\n",
       "    }\n",
       "</style>\n",
       "<table border=\"1\" class=\"dataframe\">\n",
       "  <thead>\n",
       "    <tr style=\"text-align: right;\">\n",
       "      <th></th>\n",
       "      <th>ord_count</th>\n",
       "      <th>sales</th>\n",
       "      <th>cart_value</th>\n",
       "    </tr>\n",
       "    <tr>\n",
       "      <th>Category</th>\n",
       "      <th></th>\n",
       "      <th></th>\n",
       "      <th></th>\n",
       "    </tr>\n",
       "  </thead>\n",
       "  <tbody>\n",
       "    <tr>\n",
       "      <th>Office Supplies</th>\n",
       "      <td>34</td>\n",
       "      <td>10397.360</td>\n",
       "      <td>305.804706</td>\n",
       "    </tr>\n",
       "    <tr>\n",
       "      <th>Technology</th>\n",
       "      <td>22</td>\n",
       "      <td>14793.848</td>\n",
       "      <td>672.447636</td>\n",
       "    </tr>\n",
       "    <tr>\n",
       "      <th>Furniture</th>\n",
       "      <td>15</td>\n",
       "      <td>8924.359</td>\n",
       "      <td>594.957267</td>\n",
       "    </tr>\n",
       "  </tbody>\n",
       "</table>\n",
       "</div>"
      ],
      "text/plain": [
       "                 ord_count      sales  cart_value\n",
       "Category                                         \n",
       "Office Supplies         34  10397.360  305.804706\n",
       "Technology              22  14793.848  672.447636\n",
       "Furniture               15   8924.359  594.957267"
      ]
     },
     "execution_count": 49,
     "metadata": {},
     "output_type": "execute_result"
    }
   ],
   "source": [
    "# Calculate returned orders count by category\n",
    "cat_return= risk_return.groupby('Category').agg(ord_count=('Order ID','nunique'),\n",
    "                               sales=('Sales','sum'))\n",
    "cat_return['cart_value']= cat_return['sales']/cat_return['ord_count']\n",
    "cat_return.sort_values(by='ord_count',ascending=False,inplace=True)\n",
    "cat_return"
   ]
  },
  {
   "cell_type": "markdown",
   "id": "b9230c7d",
   "metadata": {},
   "source": [
    "***Comment***\n",
    "\n",
    "- Office Supplies and Technology have 34 and 22 returned orders, respectively. These are also the two groups that have negative status in the number of orders, revenue and cart value in 2017 (as analyzed above).\n",
    "- The Furniture group has the lowest number of returned orders (15 orders). This is the group with the highest order value in 2017\n",
    "\n",
    "=> The number of returned orders could be related to the decrease of cart_value"
   ]
  },
  {
   "cell_type": "code",
   "execution_count": 50,
   "id": "8d87cfcb",
   "metadata": {},
   "outputs": [
    {
     "data": {
      "text/html": [
       "<div>\n",
       "<style scoped>\n",
       "    .dataframe tbody tr th:only-of-type {\n",
       "        vertical-align: middle;\n",
       "    }\n",
       "\n",
       "    .dataframe tbody tr th {\n",
       "        vertical-align: top;\n",
       "    }\n",
       "\n",
       "    .dataframe thead th {\n",
       "        text-align: right;\n",
       "    }\n",
       "</style>\n",
       "<table border=\"1\" class=\"dataframe\">\n",
       "  <thead>\n",
       "    <tr style=\"text-align: right;\">\n",
       "      <th></th>\n",
       "      <th>ord_count</th>\n",
       "      <th>sales</th>\n",
       "      <th>cart_value</th>\n",
       "    </tr>\n",
       "    <tr>\n",
       "      <th>Channel</th>\n",
       "      <th></th>\n",
       "      <th></th>\n",
       "      <th></th>\n",
       "    </tr>\n",
       "  </thead>\n",
       "  <tbody>\n",
       "    <tr>\n",
       "      <th>Consumer</th>\n",
       "      <td>19</td>\n",
       "      <td>18072.580</td>\n",
       "      <td>951.188421</td>\n",
       "    </tr>\n",
       "    <tr>\n",
       "      <th>Corporate</th>\n",
       "      <td>16</td>\n",
       "      <td>12466.414</td>\n",
       "      <td>779.150875</td>\n",
       "    </tr>\n",
       "    <tr>\n",
       "      <th>Home Office</th>\n",
       "      <td>8</td>\n",
       "      <td>3576.573</td>\n",
       "      <td>447.071625</td>\n",
       "    </tr>\n",
       "  </tbody>\n",
       "</table>\n",
       "</div>"
      ],
      "text/plain": [
       "             ord_count      sales  cart_value\n",
       "Channel                                      \n",
       "Consumer            19  18072.580  951.188421\n",
       "Corporate           16  12466.414  779.150875\n",
       "Home Office          8   3576.573  447.071625"
      ]
     },
     "execution_count": 50,
     "metadata": {},
     "output_type": "execute_result"
    }
   ],
   "source": [
    "# Calculate returned orders count by channel\n",
    "chan_return= risk_return.groupby('Channel').agg(ord_count=('Order ID','nunique'),\n",
    "                               sales=('Sales','sum'))\n",
    "chan_return['cart_value']= chan_return['sales']/chan_return['ord_count']\n",
    "chan_return.sort_values(by='ord_count',ascending=False,inplace=True)\n",
    "chan_return"
   ]
  },
  {
   "cell_type": "markdown",
   "id": "bdc17317",
   "metadata": {},
   "source": [
    "***Comment***\n",
    "\n",
    "- Consumer and Corporate have 19 and 16 returned orders respectively. These are also the two groups that experienced a decrease in the number of orders, revenue and order value in 2017 (as analyzed above).\n",
    "- Furniture group has the lowest number of returned orders (8 orders). It is the only group with an increase in order value in 2017\n",
    "\n",
    "=> The number of returned orders could be related to the decrease of cart_value"
   ]
  },
  {
   "cell_type": "markdown",
   "id": "ca6787be",
   "metadata": {},
   "source": [
    "#### 3.2.2.b. Recommendations for At Risk segment"
   ]
  },
  {
   "cell_type": "markdown",
   "id": "1aabe070",
   "metadata": {},
   "source": [
    "- Channels and Categories with a high number of return orders all have a decrease in the number of orders, revenue and cart value => Need to do a deeper analysis of the correlation between these factors\n",
    "- Start a new program (exchange points/gifts/vouchers) for customers in these groups to get them to do a survey to find out the main reason why these customers have not come back for a long time.\n",
    "- Since nearly 60% of orders use Ship mode Standard Class, the free upgrade to Second Class policy can be included in the new campaign\n",
    "- Send personalized emails to provide useful information and recommend to customers about best-selling Sub-category such as Binders, Paper, Furnishings, Phones and Storage"
   ]
  },
  {
   "cell_type": "code",
   "execution_count": null,
   "id": "43121677",
   "metadata": {},
   "outputs": [],
   "source": []
  }
 ],
 "metadata": {
  "kernelspec": {
   "display_name": "Python 3 (ipykernel)",
   "language": "python",
   "name": "python3"
  },
  "language_info": {
   "codemirror_mode": {
    "name": "ipython",
    "version": 3
   },
   "file_extension": ".py",
   "mimetype": "text/x-python",
   "name": "python",
   "nbconvert_exporter": "python",
   "pygments_lexer": "ipython3",
   "version": "3.11.3"
  }
 },
 "nbformat": 4,
 "nbformat_minor": 5
}
